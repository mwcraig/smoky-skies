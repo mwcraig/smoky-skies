{
 "cells": [
  {
   "cell_type": "code",
   "execution_count": 1,
   "id": "947ecc8a-09a8-4060-b4a1-5c63dbef8a6f",
   "metadata": {
    "tags": []
   },
   "outputs": [],
   "source": [
    "from datetime import date, datetime\n",
    "import pandas as pd\n",
    "from bqplot import pyplot as plt\n",
    "import numpy as np"
   ]
  },
  {
   "cell_type": "code",
   "execution_count": 2,
   "id": "ff9b0127-61bc-4e1d-b773-978bb50ecb3f",
   "metadata": {
    "tags": []
   },
   "outputs": [
    {
     "name": "stderr",
     "output_type": "stream",
     "text": [
      "/var/folders/j2/kwz9qs3d54j3p5mv5m9m5mz44_blx6/T/ipykernel_20417/4278509972.py:1: UserWarning: Could not infer format, so each element will be parsed individually, falling back to `dateutil`. To ensure parsing is consistent and as-expected, please specify a format.\n",
      "  df = pd.read_csv(\"canada-hectares-burned.csv\", parse_dates=[0])\n"
     ]
    }
   ],
   "source": [
    "df = pd.read_csv(\"canada-hectares-burned.csv\", parse_dates=[0])"
   ]
  },
  {
   "cell_type": "code",
   "execution_count": 6,
   "id": "9ca04681-696e-43c1-8579-47adc16985e9",
   "metadata": {
    "tags": []
   },
   "outputs": [],
   "source": [
    "df = df.sort_values(by=\"Date\")"
   ]
  },
  {
   "cell_type": "code",
   "execution_count": 8,
   "id": "077a34a6-c4fe-4178-aa8b-c32d1023673a",
   "metadata": {
    "tags": []
   },
   "outputs": [
    {
     "name": "stdout",
     "output_type": "stream",
     "text": [
      "<class 'pandas.core.frame.DataFrame'>\n",
      "Index: 595 entries, 594 to 0\n",
      "Data columns (total 6 columns):\n",
      " #   Column                         Non-Null Count  Dtype         \n",
      "---  ------                         --------------  -----         \n",
      " 0   Date                           595 non-null    datetime64[ns]\n",
      " 1   Daily Hotspots                 595 non-null    object        \n",
      " 2   Year-to-date Hotspots          595 non-null    object        \n",
      " 3   Year-to-date Burned Area (ha)  595 non-null    object        \n",
      " 4   Smoke (km2)                    430 non-null    object        \n",
      " 5   Cloud (%)                      588 non-null    float64       \n",
      "dtypes: datetime64[ns](1), float64(1), object(4)\n",
      "memory usage: 32.5+ KB\n"
     ]
    }
   ],
   "source": [
    "df.info()"
   ]
  },
  {
   "cell_type": "code",
   "execution_count": 9,
   "id": "3fdc2047-b842-41ff-9e83-6ebfd86acb2a",
   "metadata": {
    "tags": []
   },
   "outputs": [],
   "source": [
    "only2023 = df.loc[df[\"Date\"] > datetime(2023,1,1)]\n",
    "only2014 = df.loc[df[\"Date\"] < datetime(2015,1,1)]"
   ]
  },
  {
   "cell_type": "code",
   "execution_count": 32,
   "id": "1bb4e15d-7608-4d7b-82ac-4b2820ce2c8a",
   "metadata": {
    "tags": []
   },
   "outputs": [
    {
     "data": {
      "application/vnd.jupyter.widget-view+json": {
       "model_id": "",
       "version_major": 2,
       "version_minor": 0
      },
      "text/plain": [
       "VBox(children=(Figure(animation_duration=1000, axes=[Axis(scale=DateScale()), Axis(orientation='vertical', sca…"
      ]
     },
     "metadata": {},
     "output_type": "display_data"
    }
   ],
   "source": [
    "y = np.array([int(ha.replace(',', '')) for ha in only2014[\"Year-to-date Burned Area (ha)\"]])\n",
    "\n",
    "plt.figure(animation_duration=1000)\n",
    "line = plt.plot(only2014[\"Date\"], y/1e6, )\n",
    "plt.show()"
   ]
  },
  {
   "cell_type": "code",
   "execution_count": 33,
   "id": "c2654ef4-4b08-44d2-bd5d-7fa354ea12aa",
   "metadata": {
    "tags": []
   },
   "outputs": [],
   "source": [
    "from time import sleep\n",
    "\n",
    "y = np.array([int(ha.replace(',', '')) for ha in only2023[\"Year-to-date Burned Area (ha)\"]])\n",
    "nx = np.array([only2014[\"Date\"][442] for _ in y])\n",
    "nbx = np.array([d for d in only2014['Date']])\n",
    "ny = np.array([0.0] * len(y))\n",
    "new_line = plt.plot([only2014[\"Date\"][442] for _ in y], [0] * len(y))\n",
    "chunks = len(y) // 10\n",
    "\n",
    "\n",
    "with new_line.hold_sync():\n",
    "    new_line.x = nbx\n",
    "    new_line.y = y/1e6\n",
    "#plt.plot(only2014[\"Date\"], y/1e6)"
   ]
  },
  {
   "cell_type": "code",
   "execution_count": 28,
   "id": "2861c909-3da2-42d9-b9d7-5ef055b4a9f7",
   "metadata": {
    "tags": []
   },
   "outputs": [
    {
     "name": "stdout",
     "output_type": "stream",
     "text": [
      "0\n",
      "1\n",
      "2\n",
      "3\n",
      "4\n",
      "5\n",
      "6\n",
      "7\n",
      "8\n",
      "9\n",
      "10\n",
      "11\n",
      "12\n"
     ]
    }
   ],
   "source": [
    "for c in range(chunks):\n",
    "    print(c)\n",
    "    with new_line.hold_sync():\n",
    "        new_line.x = nbx[:(c+ 1)*10]\n",
    "        new_line.y = y[:(c + 1)*10] / 1e6\n",
    "    sleep(2)"
   ]
  },
  {
   "cell_type": "code",
   "execution_count": 38,
   "id": "d55ba63e-9995-4121-99dd-a50543cf311a",
   "metadata": {
    "tags": []
   },
   "outputs": [],
   "source": [
    "years = [2014, 2021, 2022, 2023]\n",
    "\n",
    "def fix_numbers(df):\n",
    "    return np.array([int(ha.replace(',', '')) for ha in df[\"Year-to-date Burned Area (ha)\"]])"
   ]
  },
  {
   "cell_type": "raw",
   "id": "b84e077f-90a8-4446-957f-87e1364defbf",
   "metadata": {},
   "source": []
  },
  {
   "cell_type": "code",
   "execution_count": 54,
   "id": "4cdc64d3-8de1-431d-a29a-633ceaf5da87",
   "metadata": {
    "tags": []
   },
   "outputs": [
    {
     "data": {
      "text/plain": [
       "[2014, 2021, 2022, 2023]"
      ]
     },
     "execution_count": 54,
     "metadata": {},
     "output_type": "execute_result"
    }
   ],
   "source": [
    "years"
   ]
  },
  {
   "cell_type": "code",
   "execution_count": 74,
   "id": "ea982593-ffbc-473c-bcb9-37d250734800",
   "metadata": {
    "tags": []
   },
   "outputs": [
    {
     "data": {
      "application/vnd.jupyter.widget-view+json": {
       "model_id": "52c3cc7044274a2abaeacefe6ad3ad29",
       "version_major": 2,
       "version_minor": 0
      },
      "text/plain": [
       "VBox(children=(Figure(animation_duration=2000, axes=[Axis(scale=DateScale()), Axis(orientation='vertical', sca…"
      ]
     },
     "metadata": {},
     "output_type": "display_data"
    }
   ],
   "source": [
    "plt.figure(animation_duration=2000)\n",
    "plt.ylabel('Area burned, millions of hectare')\n",
    "lines = []\n",
    "ys = []\n",
    "\n",
    "for year in years:\n",
    "    this_year = df.loc[(df[\"Date\"] > datetime(year,1,1)) & (df[\"Date\"] < datetime(year + 1, 1, 1))]\n",
    "    y = fix_numbers(this_year) / 1e6\n",
    "    ys.append(y)\n",
    "    line = plt.plot(only2014[\"Date\"], 0 * y)\n",
    "    lines.append(line)\n",
    "    \n",
    "plt.show()\n",
    "for year, line, y in zip(years, lines, ys):\n",
    "    plt.title(f\"Year {year}\")\n",
    "    with line.hold_sync():\n",
    "        line.x = only2014[\"Date\"]\n",
    "        line.y = y\n",
    "    sleep(2)\n"
   ]
  },
  {
   "cell_type": "code",
   "execution_count": 57,
   "id": "486d13d8-47be-4c53-a72b-817d09b35b3b",
   "metadata": {
    "tags": []
   },
   "outputs": [],
   "source": [
    "with lines[-1].hold_sync():\n",
    "    lines[-1].x = only2014[\"Date\"]\n",
    "    lines[-1].y = ys[-1]"
   ]
  },
  {
   "cell_type": "code",
   "execution_count": 60,
   "id": "ce903b31-a174-45a5-b684-e62bf42d9060",
   "metadata": {
    "tags": []
   },
   "outputs": [
    {
     "data": {
      "text/plain": [
       "(289, 153)"
      ]
     },
     "execution_count": 60,
     "metadata": {},
     "output_type": "execute_result"
    }
   ],
   "source": [
    "len(ys[-1]), len(only2014[\"Date\"])"
   ]
  },
  {
   "cell_type": "code",
   "execution_count": 35,
   "id": "8d976807-8267-45be-9ae7-1cdb2f1ffc61",
   "metadata": {
    "tags": []
   },
   "outputs": [
    {
     "data": {
      "text/plain": [
       "[16593465,\n",
       " 16579549,\n",
       " 16504141,\n",
       " 16378102,\n",
       " 16311245,\n",
       " 16279957,\n",
       " 16270551,\n",
       " 16264301,\n",
       " 16242775,\n",
       " 16231447,\n",
       " 16216657,\n",
       " 16145960,\n",
       " 15813755,\n",
       " 15719803,\n",
       " 15708944,\n",
       " 15665281,\n",
       " 15469637,\n",
       " 15413680,\n",
       " 15305562,\n",
       " 15059424,\n",
       " 14926078,\n",
       " 14869803,\n",
       " 14801673,\n",
       " 14708854,\n",
       " 14664278,\n",
       " 14636601,\n",
       " 14588424,\n",
       " 14505500,\n",
       " 14434504,\n",
       " 14345537,\n",
       " 14274798,\n",
       " 13905849,\n",
       " 13718809,\n",
       " 13677607,\n",
       " 13641078,\n",
       " 13543580,\n",
       " 13455648,\n",
       " 13140719,\n",
       " 12992661,\n",
       " 12868839,\n",
       " 12771961,\n",
       " 12703547,\n",
       " 12631765,\n",
       " 12565392,\n",
       " 12522995,\n",
       " 12409384,\n",
       " 12187473,\n",
       " 12096502,\n",
       " 12003297,\n",
       " 11865212,\n",
       " 11704409,\n",
       " 11582531,\n",
       " 11534268,\n",
       " 11445689,\n",
       " 11310036,\n",
       " 11226826,\n",
       " 11177156,\n",
       " 11140977,\n",
       " 11105323,\n",
       " 11011776,\n",
       " 10841712,\n",
       " 10596507,\n",
       " 10245090,\n",
       " 9908792,\n",
       " 9723582,\n",
       " 9571704,\n",
       " 9386001,\n",
       " 9207439,\n",
       " 9046679,\n",
       " 8965653,\n",
       " 8837595,\n",
       " 8598087,\n",
       " 8412376,\n",
       " 8336307,\n",
       " 8268969,\n",
       " 8098634,\n",
       " 7991403,\n",
       " 7877485,\n",
       " 7750275,\n",
       " 7701504,\n",
       " 7534333,\n",
       " 7208776,\n",
       " 6921383,\n",
       " 6571727,\n",
       " 6051501,\n",
       " 5835570,\n",
       " 5670744,\n",
       " 5636640,\n",
       " 5605024,\n",
       " 5547836,\n",
       " 5489802,\n",
       " 5436284,\n",
       " 5354805,\n",
       " 5127846,\n",
       " 4858244,\n",
       " 4576462,\n",
       " 4428973,\n",
       " 4267861,\n",
       " 4101724,\n",
       " 3934998,\n",
       " 3713866,\n",
       " 3527965,\n",
       " 3348478,\n",
       " 3059125,\n",
       " 2897689,\n",
       " 2813941,\n",
       " 2713992,\n",
       " 2568793,\n",
       " 2422543,\n",
       " 2297189,\n",
       " 2154850,\n",
       " 2129610,\n",
       " 2117675,\n",
       " 2090100,\n",
       " 2034673,\n",
       " 2002271,\n",
       " 1924196,\n",
       " 1754826,\n",
       " 1544927,\n",
       " 1352458,\n",
       " 1269153,\n",
       " 955884,\n",
       " 764869,\n",
       " 602443,\n",
       " 483578,\n",
       " 459695,\n",
       " 451745,\n",
       " 445741,\n",
       " 440982,\n",
       " 431377,\n",
       " 378050,\n",
       " 150124,\n",
       " 24683,\n",
       " 7392,\n",
       " 5164,\n",
       " 4878]"
      ]
     },
     "execution_count": 35,
     "metadata": {},
     "output_type": "execute_result"
    }
   ],
   "source": [
    "[int(ha.replace(',', '')) for ha in only2023[\"Year-to-date Burned Area (ha)\"]]"
   ]
  },
  {
   "cell_type": "code",
   "execution_count": null,
   "id": "d583b561-278f-43f7-a671-6783bb84815a",
   "metadata": {},
   "outputs": [],
   "source": []
  }
 ],
 "metadata": {
  "kernelspec": {
   "display_name": "Python 3 (ipykernel)",
   "language": "python",
   "name": "python3"
  },
  "language_info": {
   "codemirror_mode": {
    "name": "ipython",
    "version": 3
   },
   "file_extension": ".py",
   "mimetype": "text/x-python",
   "name": "python",
   "nbconvert_exporter": "python",
   "pygments_lexer": "ipython3",
   "version": "3.11.5"
  }
 },
 "nbformat": 4,
 "nbformat_minor": 5
}
