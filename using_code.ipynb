{
 "cells": [
  {
   "cell_type": "markdown",
   "id": "324f359d-1187-457b-b35f-a5a236b4f590",
   "metadata": {},
   "source": [
    "# Construct map from code library"
   ]
  },
  {
   "cell_type": "code",
   "execution_count": 1,
   "id": "412e7832-effc-4cca-a7f5-7dcb2a186ba4",
   "metadata": {
    "tags": []
   },
   "outputs": [],
   "source": [
    "from pathlib import Path\n",
    "\n",
    "import ipyleaflet as ipl\n",
    "import ipywidgets as ipw\n",
    "\n",
    "from map_renderer import ShapeFiles, construct_map, SmokeMap, MOORHEAD, TRNP, MSUM"
   ]
  },
  {
   "cell_type": "code",
   "execution_count": 2,
   "id": "ad0d0968-6fca-4dbe-9bf9-541323fdfc66",
   "metadata": {
    "tags": []
   },
   "outputs": [],
   "source": [
    "shapes = ShapeFiles(Path('smoke_extents'))"
   ]
  },
  {
   "cell_type": "code",
   "execution_count": 3,
   "id": "d878cf81-5420-43b4-bfaf-690dd534e3a3",
   "metadata": {
    "tags": []
   },
   "outputs": [
    {
     "data": {
      "text/plain": [
       "datetime.date(2023, 4, 28)"
      ]
     },
     "execution_count": 3,
     "metadata": {},
     "output_type": "execute_result"
    }
   ],
   "source": [
    "shapes.date('hms_smoke20230428')"
   ]
  },
  {
   "cell_type": "code",
   "execution_count": 4,
   "id": "bcd448a0-1812-4df0-8500-91b0f4628aab",
   "metadata": {
    "tags": []
   },
   "outputs": [],
   "source": [
    "map = construct_map(basemap=ipl.basemaps.OpenStreetMap.HOT)"
   ]
  },
  {
   "cell_type": "code",
   "execution_count": 5,
   "id": "e11b7c0d-4569-4794-bae3-9dc9b18be9a6",
   "metadata": {
    "tags": []
   },
   "outputs": [],
   "source": [
    "smoke_map = SmokeMap(map=map, shapes=shapes)"
   ]
  },
  {
   "cell_type": "code",
   "execution_count": 6,
   "id": "a4bb0af5-44c4-449a-9e39-d0c77c5491d7",
   "metadata": {
    "tags": []
   },
   "outputs": [
    {
     "data": {
      "application/vnd.jupyter.widget-view+json": {
       "model_id": "d7771e72dce24d61a810382d1dcb6eae",
       "version_major": 2,
       "version_minor": 0
      },
      "text/plain": [
       "Map(center=[40, -96], controls=(ZoomControl(options=['position', 'zoom_in_text', 'zoom_in_title', 'zoom_out_te…"
      ]
     },
     "metadata": {},
     "output_type": "display_data"
    }
   ],
   "source": [
    "map.add(MSUM.marker())\n",
    "map.add(TRNP.marker())"
   ]
  },
  {
   "cell_type": "code",
   "execution_count": 7,
   "id": "3ac552ff-43dd-4da8-af6c-8c2c307b95d8",
   "metadata": {
    "tags": []
   },
   "outputs": [],
   "source": [
    "smoke_map.set_current_smoke(smoke_map.shapes.names[0])"
   ]
  },
  {
   "cell_type": "code",
   "execution_count": 8,
   "id": "551b4d3a-05d6-4128-998d-10ac94dfeb06",
   "metadata": {
    "tags": []
   },
   "outputs": [],
   "source": [
    "smoke_map.animate()"
   ]
  },
  {
   "cell_type": "code",
   "execution_count": 9,
   "id": "9f3f02ac-ae32-45c0-bf89-8bc39233bb0e",
   "metadata": {
    "tags": []
   },
   "outputs": [],
   "source": [
    "# smoke_map.clear_smoke()"
   ]
  },
  {
   "cell_type": "code",
   "execution_count": 9,
   "id": "98f09de8-4db9-4270-8ebf-a89c46c5b881",
   "metadata": {},
   "outputs": [],
   "source": [
    "smoke_map.date_select_on()"
   ]
  },
  {
   "cell_type": "code",
   "execution_count": 10,
   "id": "924760b8-1496-41eb-9af3-789e92fbb0ba",
   "metadata": {
    "tags": []
   },
   "outputs": [],
   "source": [
    "smoke_map.date_select_off()"
   ]
  },
  {
   "cell_type": "code",
   "execution_count": 18,
   "id": "5a87ec6b-9871-47ff-aeb5-cd617dcbc0c4",
   "metadata": {
    "tags": []
   },
   "outputs": [],
   "source": [
    "smoke_map.map.clear_controls()"
   ]
  },
  {
   "cell_type": "code",
   "execution_count": 10,
   "id": "2bb5737c-6bbc-4028-a72e-219b4a11fbb3",
   "metadata": {
    "tags": []
   },
   "outputs": [
    {
     "data": {
      "text/plain": [
       "ipywidgets.widgets.widget_selection.SelectionSlider"
      ]
     },
     "execution_count": 10,
     "metadata": {},
     "output_type": "execute_result"
    }
   ],
   "source": [
    "type(smoke_map.date_selection)"
   ]
  },
  {
   "cell_type": "code",
   "execution_count": 11,
   "id": "28346b85-93e9-4e97-ad67-6422e0d26fac",
   "metadata": {
    "tags": []
   },
   "outputs": [
    {
     "data": {
      "application/vnd.jupyter.widget-view+json": {
       "model_id": "04c4c6d88dae404fba3241b42eb9fcb8",
       "version_major": 2,
       "version_minor": 0
      },
      "text/plain": [
       "Map(bottom=1926.0, center=[40, -96], controls=(ZoomControl(options=['position', 'zoom_in_text', 'zoom_in_title…"
      ]
     },
     "metadata": {},
     "output_type": "display_data"
    }
   ],
   "source": [
    "smoke_map.map.remove(smoke_map.date_selection)"
   ]
  },
  {
   "cell_type": "code",
   "execution_count": 12,
   "id": "a8638ba7-3acd-4cd4-adff-0ee71f70c294",
   "metadata": {
    "tags": []
   },
   "outputs": [
    {
     "data": {
      "text/html": [
       "<div>\n",
       "<style scoped>\n",
       "    .dataframe tbody tr th:only-of-type {\n",
       "        vertical-align: middle;\n",
       "    }\n",
       "\n",
       "    .dataframe tbody tr th {\n",
       "        vertical-align: top;\n",
       "    }\n",
       "\n",
       "    .dataframe thead th {\n",
       "        text-align: right;\n",
       "    }\n",
       "</style>\n",
       "<table border=\"1\" class=\"dataframe\">\n",
       "  <thead>\n",
       "    <tr style=\"text-align: right;\">\n",
       "      <th></th>\n",
       "      <th>Satellite</th>\n",
       "      <th>Start</th>\n",
       "      <th>End</th>\n",
       "      <th>Density</th>\n",
       "      <th>geometry</th>\n",
       "    </tr>\n",
       "  </thead>\n",
       "  <tbody>\n",
       "    <tr>\n",
       "      <th>0</th>\n",
       "      <td>GOES-WEST</td>\n",
       "      <td>2023292 1100</td>\n",
       "      <td>2023292 1400</td>\n",
       "      <td>Light</td>\n",
       "      <td>POLYGON ((-95.97985 45.12903, -96.58044 44.384...</td>\n",
       "    </tr>\n",
       "    <tr>\n",
       "      <th>1</th>\n",
       "      <td>GOES-WEST</td>\n",
       "      <td>2023292 1100</td>\n",
       "      <td>2023292 1400</td>\n",
       "      <td>Light</td>\n",
       "      <td>POLYGON ((-89.88850 30.00184, -90.05476 30.042...</td>\n",
       "    </tr>\n",
       "    <tr>\n",
       "      <th>2</th>\n",
       "      <td>GOES-WEST</td>\n",
       "      <td>2023292 1100</td>\n",
       "      <td>2023292 1400</td>\n",
       "      <td>Light</td>\n",
       "      <td>POLYGON ((-81.29252 26.74162, -81.36910 26.725...</td>\n",
       "    </tr>\n",
       "    <tr>\n",
       "      <th>3</th>\n",
       "      <td>GOES-WEST</td>\n",
       "      <td>2023292 1100</td>\n",
       "      <td>2023292 1400</td>\n",
       "      <td>Light</td>\n",
       "      <td>POLYGON ((-81.05876 26.60862, -81.17967 26.560...</td>\n",
       "    </tr>\n",
       "    <tr>\n",
       "      <th>4</th>\n",
       "      <td>GOES-WEST</td>\n",
       "      <td>2023292 1100</td>\n",
       "      <td>2023292 1400</td>\n",
       "      <td>Light</td>\n",
       "      <td>POLYGON ((-80.70005 26.57235, -80.78065 26.544...</td>\n",
       "    </tr>\n",
       "    <tr>\n",
       "      <th>5</th>\n",
       "      <td>GOES-WEST</td>\n",
       "      <td>2023292 1100</td>\n",
       "      <td>2023292 1400</td>\n",
       "      <td>Light</td>\n",
       "      <td>POLYGON ((-80.57107 26.64893, -80.63959 26.640...</td>\n",
       "    </tr>\n",
       "    <tr>\n",
       "      <th>6</th>\n",
       "      <td>GOES-WEST</td>\n",
       "      <td>2023292 1100</td>\n",
       "      <td>2023292 1400</td>\n",
       "      <td>Light</td>\n",
       "      <td>POLYGON ((-80.98621 26.72953, -81.03054 26.713...</td>\n",
       "    </tr>\n",
       "    <tr>\n",
       "      <th>7</th>\n",
       "      <td>GOES-WEST</td>\n",
       "      <td>2023292 1100</td>\n",
       "      <td>2023292 1400</td>\n",
       "      <td>Light</td>\n",
       "      <td>POLYGON ((-82.84828 31.69104, -82.90068 31.682...</td>\n",
       "    </tr>\n",
       "    <tr>\n",
       "      <th>8</th>\n",
       "      <td>GOES-EAST</td>\n",
       "      <td>2023292 1100</td>\n",
       "      <td>2023292 1400</td>\n",
       "      <td>Light</td>\n",
       "      <td>POLYGON ((-94.06833 29.86664, -94.31016 29.942...</td>\n",
       "    </tr>\n",
       "    <tr>\n",
       "      <th>9</th>\n",
       "      <td>GOES-EAST</td>\n",
       "      <td>2023292 1400</td>\n",
       "      <td>2023292 1700</td>\n",
       "      <td>Light</td>\n",
       "      <td>POLYGON ((-94.32938 21.65743, -95.52986 21.362...</td>\n",
       "    </tr>\n",
       "    <tr>\n",
       "      <th>10</th>\n",
       "      <td>GOES-EAST</td>\n",
       "      <td>2023292 1400</td>\n",
       "      <td>2023292 1700</td>\n",
       "      <td>Light</td>\n",
       "      <td>POLYGON ((-89.91026 30.02985, -89.99409 30.062...</td>\n",
       "    </tr>\n",
       "    <tr>\n",
       "      <th>11</th>\n",
       "      <td>GOES-EAST</td>\n",
       "      <td>2023292 1400</td>\n",
       "      <td>2023292 1700</td>\n",
       "      <td>Light</td>\n",
       "      <td>POLYGON ((-80.57040 26.46310, -80.73162 26.492...</td>\n",
       "    </tr>\n",
       "    <tr>\n",
       "      <th>12</th>\n",
       "      <td>GOES-EAST</td>\n",
       "      <td>2023292 1400</td>\n",
       "      <td>2023292 1700</td>\n",
       "      <td>Light</td>\n",
       "      <td>POLYGON ((-94.09134 29.84943, -94.15325 29.888...</td>\n",
       "    </tr>\n",
       "    <tr>\n",
       "      <th>13</th>\n",
       "      <td>GOES-EAST</td>\n",
       "      <td>2023292 1400</td>\n",
       "      <td>2023292 1700</td>\n",
       "      <td>Light</td>\n",
       "      <td>POLYGON ((-90.86891 35.94740, -90.73993 35.879...</td>\n",
       "    </tr>\n",
       "    <tr>\n",
       "      <th>14</th>\n",
       "      <td>GOES-WEST</td>\n",
       "      <td>2023292 1400</td>\n",
       "      <td>2023292 1700</td>\n",
       "      <td>Light</td>\n",
       "      <td>POLYGON ((-108.15031 33.00135, -108.24604 33.0...</td>\n",
       "    </tr>\n",
       "    <tr>\n",
       "      <th>15</th>\n",
       "      <td>GOES-WEST</td>\n",
       "      <td>2023292 1400</td>\n",
       "      <td>2023292 1700</td>\n",
       "      <td>Light</td>\n",
       "      <td>POLYGON ((-120.00232 38.09652, -119.97007 37.9...</td>\n",
       "    </tr>\n",
       "    <tr>\n",
       "      <th>16</th>\n",
       "      <td>GOES-WEST</td>\n",
       "      <td>2023292 1400</td>\n",
       "      <td>2023292 1700</td>\n",
       "      <td>Light</td>\n",
       "      <td>POLYGON ((-118.89394 36.76244, -119.01888 36.7...</td>\n",
       "    </tr>\n",
       "    <tr>\n",
       "      <th>17</th>\n",
       "      <td>GOES-WEST</td>\n",
       "      <td>2023292 1400</td>\n",
       "      <td>2023292 1700</td>\n",
       "      <td>Light</td>\n",
       "      <td>POLYGON ((-121.02606 41.61512, -121.12279 41.6...</td>\n",
       "    </tr>\n",
       "    <tr>\n",
       "      <th>18</th>\n",
       "      <td>GOES-WEST</td>\n",
       "      <td>2023292 1400</td>\n",
       "      <td>2023292 1700</td>\n",
       "      <td>Light</td>\n",
       "      <td>POLYGON ((-121.24773 46.97162, -121.31222 47.0...</td>\n",
       "    </tr>\n",
       "    <tr>\n",
       "      <th>19</th>\n",
       "      <td>GOES-WEST</td>\n",
       "      <td>2023292 1400</td>\n",
       "      <td>2023292 1700</td>\n",
       "      <td>Light</td>\n",
       "      <td>POLYGON ((-91.04366 36.01295, -90.88889 36.012...</td>\n",
       "    </tr>\n",
       "    <tr>\n",
       "      <th>20</th>\n",
       "      <td>GOES-WEST</td>\n",
       "      <td>2023292 1400</td>\n",
       "      <td>2023292 1700</td>\n",
       "      <td>Light</td>\n",
       "      <td>POLYGON ((-90.67286 36.23221, -90.55033 36.209...</td>\n",
       "    </tr>\n",
       "    <tr>\n",
       "      <th>21</th>\n",
       "      <td>GOES-WEST</td>\n",
       "      <td>2023292 1400</td>\n",
       "      <td>2023292 1700</td>\n",
       "      <td>Light</td>\n",
       "      <td>POLYGON ((-91.55312 34.70063, -91.40802 34.697...</td>\n",
       "    </tr>\n",
       "    <tr>\n",
       "      <th>22</th>\n",
       "      <td>GOES-WEST</td>\n",
       "      <td>2023292 1400</td>\n",
       "      <td>2023292 1700</td>\n",
       "      <td>Light</td>\n",
       "      <td>POLYGON ((-92.08514 34.52007, -91.90457 34.513...</td>\n",
       "    </tr>\n",
       "    <tr>\n",
       "      <th>23</th>\n",
       "      <td>GOES-WEST</td>\n",
       "      <td>2023292 1400</td>\n",
       "      <td>2023292 1700</td>\n",
       "      <td>Light</td>\n",
       "      <td>POLYGON ((-91.69176 34.35885, -91.53377 34.374...</td>\n",
       "    </tr>\n",
       "    <tr>\n",
       "      <th>24</th>\n",
       "      <td>GOES-EAST</td>\n",
       "      <td>2023292 1730</td>\n",
       "      <td>2023292 2300</td>\n",
       "      <td>Light</td>\n",
       "      <td>POLYGON ((-91.01603 38.37619, -91.35709 38.177...</td>\n",
       "    </tr>\n",
       "    <tr>\n",
       "      <th>25</th>\n",
       "      <td>GOES-EAST</td>\n",
       "      <td>2023292 1730</td>\n",
       "      <td>2023292 2300</td>\n",
       "      <td>Light</td>\n",
       "      <td>POLYGON ((-103.68539 52.43279, -104.23108 52.8...</td>\n",
       "    </tr>\n",
       "    <tr>\n",
       "      <th>26</th>\n",
       "      <td>GOES-WEST</td>\n",
       "      <td>2023292 1100</td>\n",
       "      <td>2023292 1400</td>\n",
       "      <td>Medium</td>\n",
       "      <td>POLYGON ((-89.90362 30.03207, -90.15552 30.087...</td>\n",
       "    </tr>\n",
       "    <tr>\n",
       "      <th>27</th>\n",
       "      <td>GOES-WEST</td>\n",
       "      <td>2023292 1100</td>\n",
       "      <td>2023292 1400</td>\n",
       "      <td>Medium</td>\n",
       "      <td>POLYGON ((-89.38973 31.52838, -89.58118 31.573...</td>\n",
       "    </tr>\n",
       "    <tr>\n",
       "      <th>28</th>\n",
       "      <td>GOES-EAST</td>\n",
       "      <td>2023292 2300</td>\n",
       "      <td>2023292 2300</td>\n",
       "      <td>Medium</td>\n",
       "      <td>POLYGON ((-94.13099 29.78635, -94.00892 29.706...</td>\n",
       "    </tr>\n",
       "    <tr>\n",
       "      <th>29</th>\n",
       "      <td>GOES-EAST</td>\n",
       "      <td>2023292 2300</td>\n",
       "      <td>2023292 2300</td>\n",
       "      <td>Medium</td>\n",
       "      <td>POLYGON ((-91.78113 29.91605, -91.73536 29.958...</td>\n",
       "    </tr>\n",
       "    <tr>\n",
       "      <th>30</th>\n",
       "      <td>GOES-EAST</td>\n",
       "      <td>2023292 2300</td>\n",
       "      <td>2023292 2300</td>\n",
       "      <td>Medium</td>\n",
       "      <td>POLYGON ((-94.95115 30.17926, -94.84434 30.179...</td>\n",
       "    </tr>\n",
       "    <tr>\n",
       "      <th>31</th>\n",
       "      <td>GOES-EAST</td>\n",
       "      <td>2023292 1730</td>\n",
       "      <td>2023292 2300</td>\n",
       "      <td>Medium</td>\n",
       "      <td>POLYGON ((-91.53984 35.70407, -91.45044 35.561...</td>\n",
       "    </tr>\n",
       "  </tbody>\n",
       "</table>\n",
       "</div>"
      ],
      "text/plain": [
       "    Satellite         Start           End Density  \\\n",
       "0   GOES-WEST  2023292 1100  2023292 1400   Light   \n",
       "1   GOES-WEST  2023292 1100  2023292 1400   Light   \n",
       "2   GOES-WEST  2023292 1100  2023292 1400   Light   \n",
       "3   GOES-WEST  2023292 1100  2023292 1400   Light   \n",
       "4   GOES-WEST  2023292 1100  2023292 1400   Light   \n",
       "5   GOES-WEST  2023292 1100  2023292 1400   Light   \n",
       "6   GOES-WEST  2023292 1100  2023292 1400   Light   \n",
       "7   GOES-WEST  2023292 1100  2023292 1400   Light   \n",
       "8   GOES-EAST  2023292 1100  2023292 1400   Light   \n",
       "9   GOES-EAST  2023292 1400  2023292 1700   Light   \n",
       "10  GOES-EAST  2023292 1400  2023292 1700   Light   \n",
       "11  GOES-EAST  2023292 1400  2023292 1700   Light   \n",
       "12  GOES-EAST  2023292 1400  2023292 1700   Light   \n",
       "13  GOES-EAST  2023292 1400  2023292 1700   Light   \n",
       "14  GOES-WEST  2023292 1400  2023292 1700   Light   \n",
       "15  GOES-WEST  2023292 1400  2023292 1700   Light   \n",
       "16  GOES-WEST  2023292 1400  2023292 1700   Light   \n",
       "17  GOES-WEST  2023292 1400  2023292 1700   Light   \n",
       "18  GOES-WEST  2023292 1400  2023292 1700   Light   \n",
       "19  GOES-WEST  2023292 1400  2023292 1700   Light   \n",
       "20  GOES-WEST  2023292 1400  2023292 1700   Light   \n",
       "21  GOES-WEST  2023292 1400  2023292 1700   Light   \n",
       "22  GOES-WEST  2023292 1400  2023292 1700   Light   \n",
       "23  GOES-WEST  2023292 1400  2023292 1700   Light   \n",
       "24  GOES-EAST  2023292 1730  2023292 2300   Light   \n",
       "25  GOES-EAST  2023292 1730  2023292 2300   Light   \n",
       "26  GOES-WEST  2023292 1100  2023292 1400  Medium   \n",
       "27  GOES-WEST  2023292 1100  2023292 1400  Medium   \n",
       "28  GOES-EAST  2023292 2300  2023292 2300  Medium   \n",
       "29  GOES-EAST  2023292 2300  2023292 2300  Medium   \n",
       "30  GOES-EAST  2023292 2300  2023292 2300  Medium   \n",
       "31  GOES-EAST  2023292 1730  2023292 2300  Medium   \n",
       "\n",
       "                                             geometry  \n",
       "0   POLYGON ((-95.97985 45.12903, -96.58044 44.384...  \n",
       "1   POLYGON ((-89.88850 30.00184, -90.05476 30.042...  \n",
       "2   POLYGON ((-81.29252 26.74162, -81.36910 26.725...  \n",
       "3   POLYGON ((-81.05876 26.60862, -81.17967 26.560...  \n",
       "4   POLYGON ((-80.70005 26.57235, -80.78065 26.544...  \n",
       "5   POLYGON ((-80.57107 26.64893, -80.63959 26.640...  \n",
       "6   POLYGON ((-80.98621 26.72953, -81.03054 26.713...  \n",
       "7   POLYGON ((-82.84828 31.69104, -82.90068 31.682...  \n",
       "8   POLYGON ((-94.06833 29.86664, -94.31016 29.942...  \n",
       "9   POLYGON ((-94.32938 21.65743, -95.52986 21.362...  \n",
       "10  POLYGON ((-89.91026 30.02985, -89.99409 30.062...  \n",
       "11  POLYGON ((-80.57040 26.46310, -80.73162 26.492...  \n",
       "12  POLYGON ((-94.09134 29.84943, -94.15325 29.888...  \n",
       "13  POLYGON ((-90.86891 35.94740, -90.73993 35.879...  \n",
       "14  POLYGON ((-108.15031 33.00135, -108.24604 33.0...  \n",
       "15  POLYGON ((-120.00232 38.09652, -119.97007 37.9...  \n",
       "16  POLYGON ((-118.89394 36.76244, -119.01888 36.7...  \n",
       "17  POLYGON ((-121.02606 41.61512, -121.12279 41.6...  \n",
       "18  POLYGON ((-121.24773 46.97162, -121.31222 47.0...  \n",
       "19  POLYGON ((-91.04366 36.01295, -90.88889 36.012...  \n",
       "20  POLYGON ((-90.67286 36.23221, -90.55033 36.209...  \n",
       "21  POLYGON ((-91.55312 34.70063, -91.40802 34.697...  \n",
       "22  POLYGON ((-92.08514 34.52007, -91.90457 34.513...  \n",
       "23  POLYGON ((-91.69176 34.35885, -91.53377 34.374...  \n",
       "24  POLYGON ((-91.01603 38.37619, -91.35709 38.177...  \n",
       "25  POLYGON ((-103.68539 52.43279, -104.23108 52.8...  \n",
       "26  POLYGON ((-89.90362 30.03207, -90.15552 30.087...  \n",
       "27  POLYGON ((-89.38973 31.52838, -89.58118 31.573...  \n",
       "28  POLYGON ((-94.13099 29.78635, -94.00892 29.706...  \n",
       "29  POLYGON ((-91.78113 29.91605, -91.73536 29.958...  \n",
       "30  POLYGON ((-94.95115 30.17926, -94.84434 30.179...  \n",
       "31  POLYGON ((-91.53984 35.70407, -91.45044 35.561...  "
      ]
     },
     "execution_count": 12,
     "metadata": {},
     "output_type": "execute_result"
    }
   ],
   "source": [
    "smoke_map.current_smoke.geo_dataframe"
   ]
  },
  {
   "cell_type": "code",
   "execution_count": 20,
   "id": "516c490a-6915-461f-9597-47400d256d8f",
   "metadata": {
    "tags": []
   },
   "outputs": [],
   "source": [
    "from datetime import date, timedelta"
   ]
  },
  {
   "cell_type": "code",
   "execution_count": 22,
   "id": "0aeeedd6-4014-44dd-9618-69b37ba6a888",
   "metadata": {
    "tags": []
   },
   "outputs": [
    {
     "data": {
      "text/plain": [
       "datetime.date(2023, 8, 14)"
      ]
     },
     "execution_count": 22,
     "metadata": {},
     "output_type": "execute_result"
    }
   ],
   "source": [
    "date(2023,1,1) + timedelta(days=225)"
   ]
  },
  {
   "cell_type": "code",
   "execution_count": null,
   "id": "a5cd1d3e-f7cb-4843-8305-9c01766583be",
   "metadata": {},
   "outputs": [],
   "source": []
  }
 ],
 "metadata": {
  "kernelspec": {
   "display_name": "Python 3 (ipykernel)",
   "language": "python",
   "name": "python3"
  },
  "language_info": {
   "codemirror_mode": {
    "name": "ipython",
    "version": 3
   },
   "file_extension": ".py",
   "mimetype": "text/x-python",
   "name": "python",
   "nbconvert_exporter": "python",
   "pygments_lexer": "ipython3",
   "version": "3.11.5"
  }
 },
 "nbformat": 4,
 "nbformat_minor": 5
}
