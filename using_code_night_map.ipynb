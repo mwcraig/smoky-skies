{
 "cells": [
  {
   "cell_type": "markdown",
   "id": "324f359d-1187-457b-b35f-a5a236b4f590",
   "metadata": {},
   "source": [
    "# Construct map from code library"
   ]
  },
  {
   "cell_type": "code",
   "execution_count": null,
   "id": "412e7832-effc-4cca-a7f5-7dcb2a186ba4",
   "metadata": {
    "tags": []
   },
   "outputs": [],
   "source": [
    "from pathlib import Path\n",
    "\n",
    "import ipyleaflet as ipl\n",
    "import ipywidgets as ipw\n",
    "\n",
    "from map_renderer import ShapeFiles, construct_map, SmokeMap, MOORHEAD, TRNP"
   ]
  },
  {
   "cell_type": "code",
   "execution_count": null,
   "id": "ad0d0968-6fca-4dbe-9bf9-541323fdfc66",
   "metadata": {
    "tags": []
   },
   "outputs": [],
   "source": [
    "shapes = ShapeFiles(Path('smoke_extents'))"
   ]
  },
  {
   "cell_type": "code",
   "execution_count": null,
   "id": "d878cf81-5420-43b4-bfaf-690dd534e3a3",
   "metadata": {
    "tags": []
   },
   "outputs": [],
   "source": [
    "shapes.date('hms_smoke20230428')"
   ]
  },
  {
   "cell_type": "code",
   "execution_count": null,
   "id": "bcd448a0-1812-4df0-8500-91b0f4628aab",
   "metadata": {
    "tags": []
   },
   "outputs": [],
   "source": [
    "map = construct_map()  # basemap=ipl.basemaps.OpenStreetMap.HOT)"
   ]
  },
  {
   "cell_type": "code",
   "execution_count": null,
   "id": "e11b7c0d-4569-4794-bae3-9dc9b18be9a6",
   "metadata": {
    "tags": []
   },
   "outputs": [],
   "source": [
    "smoke_map = SmokeMap(map=map, shapes=shapes)"
   ]
  },
  {
   "cell_type": "code",
   "execution_count": null,
   "id": "a4bb0af5-44c4-449a-9e39-d0c77c5491d7",
   "metadata": {
    "tags": []
   },
   "outputs": [],
   "source": [
    "map.add(MOORHEAD.marker())\n",
    "map.add(TRNP.marker())"
   ]
  },
  {
   "cell_type": "code",
   "execution_count": null,
   "id": "3ac552ff-43dd-4da8-af6c-8c2c307b95d8",
   "metadata": {
    "tags": []
   },
   "outputs": [],
   "source": [
    "smoke_opacity = 0.5\n",
    "smoke_map.set_current_smoke(smoke_map.shapes.names[0], opacity=smoke_opacity)"
   ]
  },
  {
   "cell_type": "code",
   "execution_count": null,
   "id": "551b4d3a-05d6-4128-998d-10ac94dfeb06",
   "metadata": {
    "tags": []
   },
   "outputs": [],
   "source": [
    "smoke_map.animate(max_smoke_opacity=smoke_opacity)"
   ]
  },
  {
   "cell_type": "code",
   "execution_count": null,
   "id": "9f3f02ac-ae32-45c0-bf89-8bc39233bb0e",
   "metadata": {
    "tags": []
   },
   "outputs": [],
   "source": [
    "smoke_map.clear_smoke()"
   ]
  },
  {
   "cell_type": "code",
   "execution_count": null,
   "id": "98f09de8-4db9-4270-8ebf-a89c46c5b881",
   "metadata": {},
   "outputs": [],
   "source": [
    "smoke_map.set_current_smoke(\"hms_smoke20230607\")"
   ]
  },
  {
   "cell_type": "code",
   "execution_count": null,
   "id": "adfa13be-bbb1-4e5c-9d2c-591135afa1ed",
   "metadata": {},
   "outputs": [],
   "source": []
  }
 ],
 "metadata": {
  "kernelspec": {
   "display_name": "Python 3 (ipykernel)",
   "language": "python",
   "name": "python3"
  },
  "language_info": {
   "codemirror_mode": {
    "name": "ipython",
    "version": 3
   },
   "file_extension": ".py",
   "mimetype": "text/x-python",
   "name": "python",
   "nbconvert_exporter": "python",
   "pygments_lexer": "ipython3",
   "version": "3.13.3"
  }
 },
 "nbformat": 4,
 "nbformat_minor": 5
}
