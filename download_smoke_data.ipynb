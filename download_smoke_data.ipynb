{
 "cells": [
  {
   "cell_type": "code",
   "execution_count": null,
   "id": "7ef18c93-e4b9-4008-9c25-43c06a7b8629",
   "metadata": {},
   "outputs": [],
   "source": [
    "from datetime import date\n",
    "\n",
    "from download_shapes import main"
   ]
  },
  {
   "cell_type": "markdown",
   "id": "773cdff4-aefd-4d04-987c-6e7599a032e4",
   "metadata": {},
   "source": [
    "## Enter start date below. Data will be downloaded for every day from that date until today."
   ]
  },
  {
   "cell_type": "code",
   "execution_count": null,
   "id": "4dc7d181-50d5-472b-822b-2787fc982b75",
   "metadata": {},
   "outputs": [],
   "source": [
    "start_date = date(2022, 1, 1)\n",
    "main(start_date)"
   ]
  },
  {
   "cell_type": "code",
   "execution_count": null,
   "id": "f5a2e965-a76b-46d9-9373-e9b37c7bc782",
   "metadata": {},
   "outputs": [],
   "source": []
  }
 ],
 "metadata": {
  "kernelspec": {
   "display_name": "Python 3 (ipykernel)",
   "language": "python",
   "name": "python3"
  },
  "language_info": {
   "codemirror_mode": {
    "name": "ipython",
    "version": 3
   },
   "file_extension": ".py",
   "mimetype": "text/x-python",
   "name": "python",
   "nbconvert_exporter": "python",
   "pygments_lexer": "ipython3",
   "version": "3.13.3"
  }
 },
 "nbformat": 4,
 "nbformat_minor": 5
}
