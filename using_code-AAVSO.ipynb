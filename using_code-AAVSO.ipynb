{
 "cells": [
  {
   "cell_type": "markdown",
   "id": "324f359d-1187-457b-b35f-a5a236b4f590",
   "metadata": {},
   "source": [
    "# Construct map from code library"
   ]
  },
  {
   "cell_type": "code",
   "execution_count": 39,
   "id": "412e7832-effc-4cca-a7f5-7dcb2a186ba4",
   "metadata": {
    "tags": []
   },
   "outputs": [],
   "source": [
    "from pathlib import Path\n",
    "\n",
    "import ipyleaflet as ipl\n",
    "import ipywidgets as ipw\n",
    "import geopandas as gpd\n",
    "from map_renderer import ShapeFiles, construct_map, SmokeMap, MOORHEAD, TRNP, MSUM_SMOKE, MSUM_CLEAR"
   ]
  },
  {
   "cell_type": "code",
   "execution_count": 40,
   "id": "ad0d0968-6fca-4dbe-9bf9-541323fdfc66",
   "metadata": {
    "tags": []
   },
   "outputs": [],
   "source": [
    "shapes = ShapeFiles(Path('smoke_extents'))"
   ]
  },
  {
   "cell_type": "code",
   "execution_count": 41,
   "id": "d878cf81-5420-43b4-bfaf-690dd534e3a3",
   "metadata": {
    "tags": []
   },
   "outputs": [
    {
     "data": {
      "text/plain": [
       "datetime.date(2023, 4, 28)"
      ]
     },
     "execution_count": 41,
     "metadata": {},
     "output_type": "execute_result"
    }
   ],
   "source": [
    "shapes.date('hms_smoke20230428')"
   ]
  },
  {
   "cell_type": "code",
   "execution_count": 42,
   "id": "bcd448a0-1812-4df0-8500-91b0f4628aab",
   "metadata": {
    "tags": []
   },
   "outputs": [],
   "source": [
    "map = construct_map(basemap=ipl.basemaps.OpenStreetMap.HOT)"
   ]
  },
  {
   "cell_type": "code",
   "execution_count": 43,
   "id": "e11b7c0d-4569-4794-bae3-9dc9b18be9a6",
   "metadata": {
    "tags": []
   },
   "outputs": [],
   "source": [
    "smoke_map = SmokeMap(map=map, shapes=shapes)"
   ]
  },
  {
   "cell_type": "code",
   "execution_count": 44,
   "id": "ac22b04b-6792-40c4-bcd5-e6ac20b90924",
   "metadata": {
    "tags": []
   },
   "outputs": [],
   "source": [
    "msum_c = MSUM_CLEAR.marker()\n",
    "msum_s = MSUM_SMOKE.marker()\n",
    "msum_point = gpd.points_from_xy([MSUM_CLEAR.location[1]], [MSUM_CLEAR.location[0]])"
   ]
  },
  {
   "cell_type": "code",
   "execution_count": 45,
   "id": "a4bb0af5-44c4-449a-9e39-d0c77c5491d7",
   "metadata": {
    "tags": []
   },
   "outputs": [
    {
     "data": {
      "application/vnd.jupyter.widget-view+json": {
       "model_id": "6b6cfb6ce355449ca2ee2b8bd2ea1456",
       "version_major": 2,
       "version_minor": 0
      },
      "text/plain": [
       "Map(center=[40, -96], controls=(ZoomControl(options=['position', 'zoom_in_text', 'zoom_in_title', 'zoom_out_te…"
      ]
     },
     "metadata": {},
     "output_type": "display_data"
    }
   ],
   "source": [
    "map.add(msum_c)"
   ]
  },
  {
   "cell_type": "code",
   "execution_count": 46,
   "id": "13dc314e-047d-4e9a-a0aa-d3ccb94daeaf",
   "metadata": {
    "tags": []
   },
   "outputs": [],
   "source": [
    "# map.remove(msum_c);"
   ]
  },
  {
   "cell_type": "code",
   "execution_count": 48,
   "id": "2bb5737c-6bbc-4028-a72e-219b4a11fbb3",
   "metadata": {
    "tags": []
   },
   "outputs": [],
   "source": [
    "night_count = ipw.HTML(value='<h1>Nights</h1>')\n",
    "night_count_control = ipl.WidgetControl(widget=night_count, position=\"bottomleft\")"
   ]
  },
  {
   "cell_type": "code",
   "execution_count": 49,
   "id": "86113029-930c-4251-9aba-e8baeab8b4f8",
   "metadata": {
    "tags": []
   },
   "outputs": [],
   "source": [
    "map.add(night_count_control);"
   ]
  },
  {
   "cell_type": "code",
   "execution_count": 50,
   "id": "0cb00c3a-dc0c-4d3d-ae2b-f504105f3ee6",
   "metadata": {
    "tags": []
   },
   "outputs": [],
   "source": [
    "last_smoky = False\n",
    "\n",
    "def set_msum_marker():\n",
    "    global last_smoky\n",
    "    smoky = smoke_map.current_smoke.geo_dataframe.contains(msum_point[0]).any()\n",
    "    if smoky == last_smoky:\n",
    "        # Nothing to update, so return\n",
    "        return\n",
    "    last_smoky = smoky\n",
    "    for mark in [msum_c, msum_s]:\n",
    "        try:\n",
    "            map.remove(mark)\n",
    "        except ipl.LayerException:\n",
    "            pass\n",
    "    \n",
    "    if smoky:\n",
    "        map.add(msum_s)\n",
    "    else:\n",
    "        map.add(msum_c)\n",
    "\n",
    "def update_night_count():\n",
    "    global clear_nights, smoky_nights\n",
    "    smoky = smoke_map.current_smoke.geo_dataframe.contains(msum_point[0]).any()\n",
    "    if smoky:\n",
    "        # Use += to make sure this is detected as a global variable \n",
    "        smoky_nights += 1\n",
    "    else:\n",
    "        clear_nights += 1\n",
    "    night_count.value = f'<h1>✨: {clear_nights}&nbsp;&nbsp;&nbsp; 🔥: {smoky_nights}</h1>'\n",
    "\n",
    "def bling_it():\n",
    "    set_msum_marker()\n",
    "    update_night_count()\n",
    "    "
   ]
  },
  {
   "cell_type": "code",
   "execution_count": 59,
   "id": "3ac552ff-43dd-4da8-af6c-8c2c307b95d8",
   "metadata": {
    "tags": []
   },
   "outputs": [],
   "source": [
    "smoke_map.set_current_smoke(smoke_map.shapes.names[50])\n",
    "smoky_nights = 19\n",
    "clear_nights = 31\n",
    "bling_it()"
   ]
  },
  {
   "cell_type": "code",
   "execution_count": 54,
   "id": "551b4d3a-05d6-4128-998d-10ac94dfeb06",
   "metadata": {
    "tags": []
   },
   "outputs": [],
   "source": [
    "smoky_nights = 0\n",
    "clear_nights = 0\n",
    "smoke_map.animate(fade_duration=0.1, smoke_callback=bling_it)"
   ]
  },
  {
   "cell_type": "code",
   "execution_count": 35,
   "id": "6de6c3d4-b5a6-415d-bffb-6ee8f990e569",
   "metadata": {
    "tags": []
   },
   "outputs": [],
   "source": [
    "smoky_nights = 0\n",
    "clear_nights = -1\n",
    "update_night_count()"
   ]
  },
  {
   "cell_type": "code",
   "execution_count": 9,
   "id": "9f3f02ac-ae32-45c0-bf89-8bc39233bb0e",
   "metadata": {
    "tags": []
   },
   "outputs": [],
   "source": [
    "# smoke_map.clear_smoke()"
   ]
  },
  {
   "cell_type": "code",
   "execution_count": 9,
   "id": "98f09de8-4db9-4270-8ebf-a89c46c5b881",
   "metadata": {},
   "outputs": [],
   "source": [
    "smoke_map.date_select_on()"
   ]
  },
  {
   "cell_type": "code",
   "execution_count": 10,
   "id": "924760b8-1496-41eb-9af3-789e92fbb0ba",
   "metadata": {
    "tags": []
   },
   "outputs": [],
   "source": [
    "smoke_map.date_select_off()"
   ]
  },
  {
   "cell_type": "code",
   "execution_count": 18,
   "id": "5a87ec6b-9871-47ff-aeb5-cd617dcbc0c4",
   "metadata": {
    "tags": []
   },
   "outputs": [],
   "source": [
    "smoke_map.map.clear_controls()"
   ]
  },
  {
   "cell_type": "code",
   "execution_count": 61,
   "id": "9e82001b-d311-407a-bb22-6d23e30d6f06",
   "metadata": {
    "tags": []
   },
   "outputs": [
    {
     "ename": "ControlException",
     "evalue": "control not on map: WidgetControl(options=['position', 'transparent_bg'], position='bottomleft', widget=HTML(value='<h1>✨: 31&nbsp;&nbsp;&nbsp; 🔥: 20</h1>'))",
     "output_type": "error",
     "traceback": [
      "\u001b[0;31m---------------------------------------------------------------------------\u001b[0m",
      "\u001b[0;31mControlException\u001b[0m                          Traceback (most recent call last)",
      "Cell \u001b[0;32mIn[61], line 1\u001b[0m\n\u001b[0;32m----> 1\u001b[0m \u001b[38;5;28;43mmap\u001b[39;49m\u001b[38;5;241;43m.\u001b[39;49m\u001b[43mremove\u001b[49m\u001b[43m(\u001b[49m\u001b[43mnight_count_control\u001b[49m\u001b[43m)\u001b[49m;\n",
      "File \u001b[0;32m~/mambaforge/envs/smoke/lib/python3.11/site-packages/ipyleaflet/leaflet.py:2690\u001b[0m, in \u001b[0;36mMap.remove\u001b[0;34m(self, item)\u001b[0m\n\u001b[1;32m   2688\u001b[0m \u001b[38;5;28;01melif\u001b[39;00m \u001b[38;5;28misinstance\u001b[39m(item, Control):\n\u001b[1;32m   2689\u001b[0m     \u001b[38;5;28;01mif\u001b[39;00m item\u001b[38;5;241m.\u001b[39mmodel_id \u001b[38;5;129;01mnot\u001b[39;00m \u001b[38;5;129;01min\u001b[39;00m \u001b[38;5;28mself\u001b[39m\u001b[38;5;241m.\u001b[39m_control_ids:\n\u001b[0;32m-> 2690\u001b[0m         \u001b[38;5;28;01mraise\u001b[39;00m ControlException(\u001b[38;5;124m'\u001b[39m\u001b[38;5;124mcontrol not on map: \u001b[39m\u001b[38;5;132;01m%r\u001b[39;00m\u001b[38;5;124m'\u001b[39m \u001b[38;5;241m%\u001b[39m item)\n\u001b[1;32m   2691\u001b[0m     \u001b[38;5;28mself\u001b[39m\u001b[38;5;241m.\u001b[39mcontrols \u001b[38;5;241m=\u001b[39m \u001b[38;5;28mtuple\u001b[39m([control \u001b[38;5;28;01mfor\u001b[39;00m control \u001b[38;5;129;01min\u001b[39;00m \u001b[38;5;28mself\u001b[39m\u001b[38;5;241m.\u001b[39mcontrols \u001b[38;5;28;01mif\u001b[39;00m control\u001b[38;5;241m.\u001b[39mmodel_id \u001b[38;5;241m!=\u001b[39m item\u001b[38;5;241m.\u001b[39mmodel_id])\n\u001b[1;32m   2692\u001b[0m \u001b[38;5;28;01mreturn\u001b[39;00m \u001b[38;5;28mself\u001b[39m\n",
      "\u001b[0;31mControlException\u001b[0m: control not on map: WidgetControl(options=['position', 'transparent_bg'], position='bottomleft', widget=HTML(value='<h1>✨: 31&nbsp;&nbsp;&nbsp; 🔥: 20</h1>'))"
     ]
    }
   ],
   "source": [
    "map.remove(night_count_control);"
   ]
  },
  {
   "cell_type": "code",
   "execution_count": 62,
   "id": "dcbaab2b-dad6-43e9-9c54-cbe7c1e5329c",
   "metadata": {
    "tags": []
   },
   "outputs": [],
   "source": [
    "smoke_map.set_current_smoke(\"hms_smoke20230606\")"
   ]
  },
  {
   "cell_type": "code",
   "execution_count": 11,
   "id": "28346b85-93e9-4e97-ad67-6422e0d26fac",
   "metadata": {
    "tags": []
   },
   "outputs": [
    {
     "data": {
      "application/vnd.jupyter.widget-view+json": {
       "model_id": "04c4c6d88dae404fba3241b42eb9fcb8",
       "version_major": 2,
       "version_minor": 0
      },
      "text/plain": [
       "Map(bottom=1926.0, center=[40, -96], controls=(ZoomControl(options=['position', 'zoom_in_text', 'zoom_in_title…"
      ]
     },
     "metadata": {},
     "output_type": "display_data"
    }
   ],
   "source": [
    "smoke_map.map.remove(smoke_map.date_selection)"
   ]
  },
  {
   "cell_type": "code",
   "execution_count": 22,
   "id": "a8638ba7-3acd-4cd4-adff-0ee71f70c294",
   "metadata": {
    "tags": []
   },
   "outputs": [
    {
     "data": {
      "text/html": [
       "<div>\n",
       "<style scoped>\n",
       "    .dataframe tbody tr th:only-of-type {\n",
       "        vertical-align: middle;\n",
       "    }\n",
       "\n",
       "    .dataframe tbody tr th {\n",
       "        vertical-align: top;\n",
       "    }\n",
       "\n",
       "    .dataframe thead th {\n",
       "        text-align: right;\n",
       "    }\n",
       "</style>\n",
       "<table border=\"1\" class=\"dataframe\">\n",
       "  <thead>\n",
       "    <tr style=\"text-align: right;\">\n",
       "      <th></th>\n",
       "      <th>Satellite</th>\n",
       "      <th>Start</th>\n",
       "      <th>End</th>\n",
       "      <th>Density</th>\n",
       "      <th>geometry</th>\n",
       "    </tr>\n",
       "  </thead>\n",
       "  <tbody>\n",
       "    <tr>\n",
       "      <th>0</th>\n",
       "      <td>GOES-WEST</td>\n",
       "      <td>2023131 1100</td>\n",
       "      <td>2023131 1450</td>\n",
       "      <td>Light</td>\n",
       "      <td>POLYGON ((-64.84823 56.83354, -64.43309 55.399...</td>\n",
       "    </tr>\n",
       "    <tr>\n",
       "      <th>1</th>\n",
       "      <td>GOES-WEST</td>\n",
       "      <td>2023131 1100</td>\n",
       "      <td>2023131 1500</td>\n",
       "      <td>Light</td>\n",
       "      <td>POLYGON ((-107.46343 26.19278, -107.35213 26.4...</td>\n",
       "    </tr>\n",
       "    <tr>\n",
       "      <th>2</th>\n",
       "      <td>GOES-WEST</td>\n",
       "      <td>2023131 1100</td>\n",
       "      <td>2023131 1500</td>\n",
       "      <td>Light</td>\n",
       "      <td>POLYGON ((-105.13853 22.40863, -105.08906 22.5...</td>\n",
       "    </tr>\n",
       "    <tr>\n",
       "      <th>3</th>\n",
       "      <td>GOES-WEST</td>\n",
       "      <td>2023131 1100</td>\n",
       "      <td>2023131 1500</td>\n",
       "      <td>Light</td>\n",
       "      <td>POLYGON ((-104.86646 20.93701, -104.64387 20.4...</td>\n",
       "    </tr>\n",
       "    <tr>\n",
       "      <th>4</th>\n",
       "      <td>GOES-WEST</td>\n",
       "      <td>2023131 1100</td>\n",
       "      <td>2023131 1500</td>\n",
       "      <td>Light</td>\n",
       "      <td>POLYGON ((-104.30997 22.12420, -104.18631 21.9...</td>\n",
       "    </tr>\n",
       "    <tr>\n",
       "      <th>5</th>\n",
       "      <td>GOES-WEST</td>\n",
       "      <td>2023131 1100</td>\n",
       "      <td>2023131 1500</td>\n",
       "      <td>Light</td>\n",
       "      <td>POLYGON ((-103.91424 21.95107, -103.65455 21.7...</td>\n",
       "    </tr>\n",
       "    <tr>\n",
       "      <th>6</th>\n",
       "      <td>GOES-WEST</td>\n",
       "      <td>2023131 1100</td>\n",
       "      <td>2023131 1500</td>\n",
       "      <td>Light</td>\n",
       "      <td>POLYGON ((-105.83105 24.59750, -105.38586 24.6...</td>\n",
       "    </tr>\n",
       "    <tr>\n",
       "      <th>7</th>\n",
       "      <td>GOES-WEST</td>\n",
       "      <td>2023131 1100</td>\n",
       "      <td>2023131 1500</td>\n",
       "      <td>Light</td>\n",
       "      <td>POLYGON ((-81.03815 25.85748, -81.18338 25.862...</td>\n",
       "    </tr>\n",
       "    <tr>\n",
       "      <th>8</th>\n",
       "      <td>GOES-WEST</td>\n",
       "      <td>2023131 1100</td>\n",
       "      <td>2023131 1500</td>\n",
       "      <td>Light</td>\n",
       "      <td>POLYGON ((-80.92404 26.54993, -81.00962 26.495...</td>\n",
       "    </tr>\n",
       "    <tr>\n",
       "      <th>9</th>\n",
       "      <td>GOES-EAST</td>\n",
       "      <td>2023131 2030</td>\n",
       "      <td>2023132 0000</td>\n",
       "      <td>Light</td>\n",
       "      <td>POLYGON ((-116.48585 51.25845, -120.14959 54.0...</td>\n",
       "    </tr>\n",
       "    <tr>\n",
       "      <th>10</th>\n",
       "      <td>GOES-EAST</td>\n",
       "      <td>2023131 2030</td>\n",
       "      <td>2023132 0000</td>\n",
       "      <td>Light</td>\n",
       "      <td>POLYGON ((-122.78019 40.13869, -122.84122 40.1...</td>\n",
       "    </tr>\n",
       "    <tr>\n",
       "      <th>11</th>\n",
       "      <td>GOES-EAST</td>\n",
       "      <td>2023131 2030</td>\n",
       "      <td>2023132 0000</td>\n",
       "      <td>Light</td>\n",
       "      <td>POLYGON ((-121.97453 39.45204, -122.05692 39.4...</td>\n",
       "    </tr>\n",
       "    <tr>\n",
       "      <th>12</th>\n",
       "      <td>GOES-EAST</td>\n",
       "      <td>2023131 2030</td>\n",
       "      <td>2023132 0000</td>\n",
       "      <td>Light</td>\n",
       "      <td>POLYGON ((-119.19393 48.12208, -119.25115 48.3...</td>\n",
       "    </tr>\n",
       "    <tr>\n",
       "      <th>13</th>\n",
       "      <td>GOES-WEST</td>\n",
       "      <td>2023131 1100</td>\n",
       "      <td>2023131 1450</td>\n",
       "      <td>Medium</td>\n",
       "      <td>POLYGON ((-121.02133 54.16165, -123.70235 55.6...</td>\n",
       "    </tr>\n",
       "    <tr>\n",
       "      <th>14</th>\n",
       "      <td>GOES-EAST</td>\n",
       "      <td>2023131 1100</td>\n",
       "      <td>2023131 1450</td>\n",
       "      <td>Medium</td>\n",
       "      <td>POLYGON ((-59.97982 40.49231, -60.24400 40.907...</td>\n",
       "    </tr>\n",
       "    <tr>\n",
       "      <th>15</th>\n",
       "      <td>GOES-WEST</td>\n",
       "      <td>2023131 1100</td>\n",
       "      <td>2023131 1500</td>\n",
       "      <td>Medium</td>\n",
       "      <td>POLYGON ((-75.38889 36.93890, -75.38889 36.673...</td>\n",
       "    </tr>\n",
       "    <tr>\n",
       "      <th>16</th>\n",
       "      <td>GOES-WEST</td>\n",
       "      <td>2023131 1100</td>\n",
       "      <td>2023131 1500</td>\n",
       "      <td>Medium</td>\n",
       "      <td>POLYGON ((-97.14802 28.07258, -96.88385 28.299...</td>\n",
       "    </tr>\n",
       "    <tr>\n",
       "      <th>17</th>\n",
       "      <td>GOES-EAST</td>\n",
       "      <td>2023131 2030</td>\n",
       "      <td>2023132 0000</td>\n",
       "      <td>Medium</td>\n",
       "      <td>POLYGON ((-101.16477 27.38865, -100.55415 29.4...</td>\n",
       "    </tr>\n",
       "    <tr>\n",
       "      <th>18</th>\n",
       "      <td>GOES-EAST</td>\n",
       "      <td>2023131 2110</td>\n",
       "      <td>2023131 2110</td>\n",
       "      <td>Medium</td>\n",
       "      <td>POLYGON ((-73.96871 45.67171, -75.84221 50.043...</td>\n",
       "    </tr>\n",
       "    <tr>\n",
       "      <th>19</th>\n",
       "      <td>GOES-EAST</td>\n",
       "      <td>2023131 2030</td>\n",
       "      <td>2023132 0000</td>\n",
       "      <td>Medium</td>\n",
       "      <td>POLYGON ((-112.32693 60.92340, -115.43555 63.0...</td>\n",
       "    </tr>\n",
       "  </tbody>\n",
       "</table>\n",
       "</div>"
      ],
      "text/plain": [
       "    Satellite         Start           End Density  \\\n",
       "0   GOES-WEST  2023131 1100  2023131 1450   Light   \n",
       "1   GOES-WEST  2023131 1100  2023131 1500   Light   \n",
       "2   GOES-WEST  2023131 1100  2023131 1500   Light   \n",
       "3   GOES-WEST  2023131 1100  2023131 1500   Light   \n",
       "4   GOES-WEST  2023131 1100  2023131 1500   Light   \n",
       "5   GOES-WEST  2023131 1100  2023131 1500   Light   \n",
       "6   GOES-WEST  2023131 1100  2023131 1500   Light   \n",
       "7   GOES-WEST  2023131 1100  2023131 1500   Light   \n",
       "8   GOES-WEST  2023131 1100  2023131 1500   Light   \n",
       "9   GOES-EAST  2023131 2030  2023132 0000   Light   \n",
       "10  GOES-EAST  2023131 2030  2023132 0000   Light   \n",
       "11  GOES-EAST  2023131 2030  2023132 0000   Light   \n",
       "12  GOES-EAST  2023131 2030  2023132 0000   Light   \n",
       "13  GOES-WEST  2023131 1100  2023131 1450  Medium   \n",
       "14  GOES-EAST  2023131 1100  2023131 1450  Medium   \n",
       "15  GOES-WEST  2023131 1100  2023131 1500  Medium   \n",
       "16  GOES-WEST  2023131 1100  2023131 1500  Medium   \n",
       "17  GOES-EAST  2023131 2030  2023132 0000  Medium   \n",
       "18  GOES-EAST  2023131 2110  2023131 2110  Medium   \n",
       "19  GOES-EAST  2023131 2030  2023132 0000  Medium   \n",
       "\n",
       "                                             geometry  \n",
       "0   POLYGON ((-64.84823 56.83354, -64.43309 55.399...  \n",
       "1   POLYGON ((-107.46343 26.19278, -107.35213 26.4...  \n",
       "2   POLYGON ((-105.13853 22.40863, -105.08906 22.5...  \n",
       "3   POLYGON ((-104.86646 20.93701, -104.64387 20.4...  \n",
       "4   POLYGON ((-104.30997 22.12420, -104.18631 21.9...  \n",
       "5   POLYGON ((-103.91424 21.95107, -103.65455 21.7...  \n",
       "6   POLYGON ((-105.83105 24.59750, -105.38586 24.6...  \n",
       "7   POLYGON ((-81.03815 25.85748, -81.18338 25.862...  \n",
       "8   POLYGON ((-80.92404 26.54993, -81.00962 26.495...  \n",
       "9   POLYGON ((-116.48585 51.25845, -120.14959 54.0...  \n",
       "10  POLYGON ((-122.78019 40.13869, -122.84122 40.1...  \n",
       "11  POLYGON ((-121.97453 39.45204, -122.05692 39.4...  \n",
       "12  POLYGON ((-119.19393 48.12208, -119.25115 48.3...  \n",
       "13  POLYGON ((-121.02133 54.16165, -123.70235 55.6...  \n",
       "14  POLYGON ((-59.97982 40.49231, -60.24400 40.907...  \n",
       "15  POLYGON ((-75.38889 36.93890, -75.38889 36.673...  \n",
       "16  POLYGON ((-97.14802 28.07258, -96.88385 28.299...  \n",
       "17  POLYGON ((-101.16477 27.38865, -100.55415 29.4...  \n",
       "18  POLYGON ((-73.96871 45.67171, -75.84221 50.043...  \n",
       "19  POLYGON ((-112.32693 60.92340, -115.43555 63.0...  "
      ]
     },
     "execution_count": 22,
     "metadata": {},
     "output_type": "execute_result"
    }
   ],
   "source": [
    "smoke_map.current_smoke.geo_dataframe"
   ]
  },
  {
   "cell_type": "code",
   "execution_count": 24,
   "id": "4cf1869e-0eac-46d9-b047-440190d34adc",
   "metadata": {
    "tags": []
   },
   "outputs": [
    {
     "data": {
      "text/plain": [
       "False"
      ]
     },
     "execution_count": 24,
     "metadata": {},
     "output_type": "execute_result"
    }
   ],
   "source": [
    "\n",
    "\n",
    "smoke_map.current_smoke.geo_dataframe.contains(marked[0]).all()"
   ]
  },
  {
   "cell_type": "code",
   "execution_count": 25,
   "id": "75d4c49d-da1f-4d6e-966b-68fe2afe44ab",
   "metadata": {
    "tags": []
   },
   "outputs": [
    {
     "data": {
      "text/plain": [
       "shapely.geometry.point.Point"
      ]
     },
     "execution_count": 25,
     "metadata": {},
     "output_type": "execute_result"
    }
   ],
   "source": [
    "type(marked[0])"
   ]
  },
  {
   "cell_type": "code",
   "execution_count": 26,
   "id": "516c490a-6915-461f-9597-47400d256d8f",
   "metadata": {
    "tags": []
   },
   "outputs": [],
   "source": [
    "from datetime import date, timedelta"
   ]
  },
  {
   "cell_type": "code",
   "execution_count": 22,
   "id": "0aeeedd6-4014-44dd-9618-69b37ba6a888",
   "metadata": {
    "tags": []
   },
   "outputs": [
    {
     "data": {
      "text/plain": [
       "datetime.date(2023, 8, 14)"
      ]
     },
     "execution_count": 22,
     "metadata": {},
     "output_type": "execute_result"
    }
   ],
   "source": [
    "date(2023,1,1) + timedelta(days=225)"
   ]
  },
  {
   "cell_type": "code",
   "execution_count": 10,
   "id": "a5cd1d3e-f7cb-4843-8305-9c01766583be",
   "metadata": {
    "tags": []
   },
   "outputs": [
    {
     "data": {
      "text/plain": [
       "(46.873889, -96.767222)"
      ]
     },
     "execution_count": 10,
     "metadata": {},
     "output_type": "execute_result"
    }
   ],
   "source": [
    "MSUM.location"
   ]
  },
  {
   "cell_type": "code",
   "execution_count": null,
   "id": "f4556a24-35dd-456b-8472-862514617f24",
   "metadata": {},
   "outputs": [],
   "source": []
  }
 ],
 "metadata": {
  "kernelspec": {
   "display_name": "Python 3 (ipykernel)",
   "language": "python",
   "name": "python3"
  },
  "language_info": {
   "codemirror_mode": {
    "name": "ipython",
    "version": 3
   },
   "file_extension": ".py",
   "mimetype": "text/x-python",
   "name": "python",
   "nbconvert_exporter": "python",
   "pygments_lexer": "ipython3",
   "version": "3.11.5"
  }
 },
 "nbformat": 4,
 "nbformat_minor": 5
}
