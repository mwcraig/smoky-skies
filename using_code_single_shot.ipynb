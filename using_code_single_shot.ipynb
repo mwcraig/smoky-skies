{
 "cells": [
  {
   "cell_type": "markdown",
   "id": "324f359d-1187-457b-b35f-a5a236b4f590",
   "metadata": {},
   "source": [
    "# Construct map from code library"
   ]
  },
  {
   "cell_type": "code",
   "execution_count": 1,
   "id": "412e7832-effc-4cca-a7f5-7dcb2a186ba4",
   "metadata": {
    "tags": []
   },
   "outputs": [],
   "source": [
    "from pathlib import Path\n",
    "from time import sleep\n",
    "\n",
    "import ipyleaflet as ipl\n",
    "import ipywidgets as ipw\n",
    "\n",
    "from map_renderer import ShapeFiles, construct_map, SmokeMap, MOORHEAD, TRNP"
   ]
  },
  {
   "cell_type": "code",
   "execution_count": 2,
   "id": "ad0d0968-6fca-4dbe-9bf9-541323fdfc66",
   "metadata": {
    "tags": []
   },
   "outputs": [],
   "source": [
    "shapes = ShapeFiles(Path('smoke_extents'))"
   ]
  },
  {
   "cell_type": "code",
   "execution_count": 3,
   "id": "d878cf81-5420-43b4-bfaf-690dd534e3a3",
   "metadata": {
    "tags": []
   },
   "outputs": [
    {
     "data": {
      "text/plain": [
       "datetime.date(2023, 4, 28)"
      ]
     },
     "execution_count": 3,
     "metadata": {},
     "output_type": "execute_result"
    }
   ],
   "source": [
    "shapes.date('hms_smoke20230428')"
   ]
  },
  {
   "cell_type": "code",
   "execution_count": 4,
   "id": "bcd448a0-1812-4df0-8500-91b0f4628aab",
   "metadata": {
    "tags": []
   },
   "outputs": [],
   "source": [
    "map = construct_map(basemap=ipl.basemaps.OpenStreetMap.HOT)"
   ]
  },
  {
   "cell_type": "code",
   "execution_count": 5,
   "id": "e11b7c0d-4569-4794-bae3-9dc9b18be9a6",
   "metadata": {
    "tags": []
   },
   "outputs": [],
   "source": [
    "smoke_map = SmokeMap(map=map, shapes=shapes)"
   ]
  },
  {
   "cell_type": "code",
   "execution_count": 6,
   "id": "a4bb0af5-44c4-449a-9e39-d0c77c5491d7",
   "metadata": {
    "tags": []
   },
   "outputs": [
    {
     "data": {
      "application/vnd.jupyter.widget-view+json": {
       "model_id": "5e58491cdcf64a84bf64cf34b20dd2b5",
       "version_major": 2,
       "version_minor": 0
      },
      "text/plain": [
       "Map(center=[40, -96], controls=(ZoomControl(options=['position', 'zoom_in_text', 'zoom_in_title', 'zoom_out_te…"
      ]
     },
     "metadata": {},
     "output_type": "display_data"
    }
   ],
   "source": [
    "map.add(MOORHEAD.marker())\n",
    "map.add(TRNP.marker())"
   ]
  },
  {
   "cell_type": "code",
   "execution_count": 7,
   "id": "3ac552ff-43dd-4da8-af6c-8c2c307b95d8",
   "metadata": {
    "tags": []
   },
   "outputs": [],
   "source": [
    "smoke_map.set_current_smoke(smoke_map.shapes.names[0])"
   ]
  },
  {
   "cell_type": "code",
   "execution_count": 8,
   "id": "551b4d3a-05d6-4128-998d-10ac94dfeb06",
   "metadata": {
    "tags": []
   },
   "outputs": [],
   "source": [
    "# smoke_map.animate()"
   ]
  },
  {
   "cell_type": "code",
   "execution_count": 9,
   "id": "f3891bc6-fff0-409b-849b-24ee9070e689",
   "metadata": {
    "tags": []
   },
   "outputs": [
    {
     "data": {
      "text/plain": [
       "'hms_smoke20220603'"
      ]
     },
     "execution_count": 9,
     "metadata": {},
     "output_type": "execute_result"
    }
   ],
   "source": [
    "smoke_map.shapes.names[0]"
   ]
  },
  {
   "cell_type": "code",
   "execution_count": 10,
   "id": "9f3f02ac-ae32-45c0-bf89-8bc39233bb0e",
   "metadata": {
    "tags": []
   },
   "outputs": [],
   "source": [
    "# samoke_map.clear_smoke()"
   ]
  },
  {
   "cell_type": "code",
   "execution_count": 10,
   "id": "e4a6ff6f-23d9-4a67-99f0-a285cb539b35",
   "metadata": {
    "tags": []
   },
   "outputs": [],
   "source": [
    "dates = [\n",
    "    20230519,\n",
    "    20230526,\n",
    "    20230527,\n",
    "    20230610,\n",
    "    20230611,\n",
    "    20230612,\n",
    "    20230615,\n",
    "    20230618,\n",
    "    20230619,\n",
    "    20230629,\n",
    "    20230630,\n",
    "    20230701,\n",
    "    20230706,\n",
    "    20230814\n",
    "]"
   ]
  },
  {
   "cell_type": "code",
   "execution_count": 13,
   "id": "8c8a705b-7201-4867-98c7-c15456e49bce",
   "metadata": {
    "tags": []
   },
   "outputs": [],
   "source": [
    "for date in dates:\n",
    "    smoke_map.set_current_smoke(f'hms_smoke{date}')\n",
    "    sleep(5)"
   ]
  },
  {
   "cell_type": "code",
   "execution_count": 16,
   "id": "98f09de8-4db9-4270-8ebf-a89c46c5b881",
   "metadata": {
    "tags": []
   },
   "outputs": [],
   "source": [
    "\n",
    "\n",
    "\n",
    "smoke_map.set_current_smoke(\"hms_smoke20231019\")"
   ]
  },
  {
   "cell_type": "code",
   "execution_count": 11,
   "id": "924760b8-1496-41eb-9af3-789e92fbb0ba",
   "metadata": {
    "tags": []
   },
   "outputs": [],
   "source": [
    "smoke_map.date_select_on()"
   ]
  },
  {
   "cell_type": "code",
   "execution_count": 18,
   "id": "5a87ec6b-9871-47ff-aeb5-cd617dcbc0c4",
   "metadata": {
    "tags": []
   },
   "outputs": [],
   "source": [
    "smoke_map.map.clear_controls()"
   ]
  },
  {
   "cell_type": "code",
   "execution_count": 15,
   "id": "2bb5737c-6bbc-4028-a72e-219b4a11fbb3",
   "metadata": {
    "tags": []
   },
   "outputs": [
    {
     "data": {
      "text/plain": [
       "ipywidgets.widgets.widget_selection.SelectionSlider"
      ]
     },
     "execution_count": 15,
     "metadata": {},
     "output_type": "execute_result"
    }
   ],
   "source": [
    "type(smoke_map.date_selection)"
   ]
  },
  {
   "cell_type": "code",
   "execution_count": 17,
   "id": "28346b85-93e9-4e97-ad67-6422e0d26fac",
   "metadata": {
    "tags": []
   },
   "outputs": [
    {
     "data": {
      "application/vnd.jupyter.widget-view+json": {
       "model_id": "379ff3a280f0416ea3dec38fb21f9e72",
       "version_major": 2,
       "version_minor": 0
      },
      "text/plain": [
       "Map(bottom=1926.0, center=[40, -96], controls=(ZoomControl(options=['position', 'zoom_in_text', 'zoom_in_title…"
      ]
     },
     "metadata": {},
     "output_type": "display_data"
    }
   ],
   "source": [
    "smoke_map.map.remove(smoke_map.date_selection)"
   ]
  },
  {
   "cell_type": "code",
   "execution_count": 15,
   "id": "a8638ba7-3acd-4cd4-adff-0ee71f70c294",
   "metadata": {
    "tags": []
   },
   "outputs": [
    {
     "data": {
      "text/html": [
       "<div>\n",
       "<style scoped>\n",
       "    .dataframe tbody tr th:only-of-type {\n",
       "        vertical-align: middle;\n",
       "    }\n",
       "\n",
       "    .dataframe tbody tr th {\n",
       "        vertical-align: top;\n",
       "    }\n",
       "\n",
       "    .dataframe thead th {\n",
       "        text-align: right;\n",
       "    }\n",
       "</style>\n",
       "<table border=\"1\" class=\"dataframe\">\n",
       "  <thead>\n",
       "    <tr style=\"text-align: right;\">\n",
       "      <th></th>\n",
       "      <th>Satellite</th>\n",
       "      <th>Start</th>\n",
       "      <th>End</th>\n",
       "      <th>Density</th>\n",
       "      <th>geometry</th>\n",
       "    </tr>\n",
       "  </thead>\n",
       "  <tbody>\n",
       "    <tr>\n",
       "      <th>0</th>\n",
       "      <td>GOES-WEST</td>\n",
       "      <td>2023226 1000</td>\n",
       "      <td>2023226 1600</td>\n",
       "      <td>Light</td>\n",
       "      <td>POLYGON ((-122.99178 43.40148, -123.12216 43.4...</td>\n",
       "    </tr>\n",
       "    <tr>\n",
       "      <th>1</th>\n",
       "      <td>GOES-WEST</td>\n",
       "      <td>2023226 1000</td>\n",
       "      <td>2023226 1600</td>\n",
       "      <td>Light</td>\n",
       "      <td>POLYGON ((-116.59359 47.88114, -116.66810 47.9...</td>\n",
       "    </tr>\n",
       "    <tr>\n",
       "      <th>2</th>\n",
       "      <td>GOES-WEST</td>\n",
       "      <td>2023226 1000</td>\n",
       "      <td>2023226 1600</td>\n",
       "      <td>Light</td>\n",
       "      <td>POLYGON ((-116.89162 48.10466, -117.17101 47.9...</td>\n",
       "    </tr>\n",
       "    <tr>\n",
       "      <th>3</th>\n",
       "      <td>GOES-WEST</td>\n",
       "      <td>2023226 1000</td>\n",
       "      <td>2023226 1600</td>\n",
       "      <td>Light</td>\n",
       "      <td>POLYGON ((-119.91841 49.11049, -119.94635 48.9...</td>\n",
       "    </tr>\n",
       "    <tr>\n",
       "      <th>4</th>\n",
       "      <td>GOES-WEST</td>\n",
       "      <td>2023226 1000</td>\n",
       "      <td>2023226 1600</td>\n",
       "      <td>Light</td>\n",
       "      <td>POLYGON ((-121.27814 49.16637, -121.54823 49.2...</td>\n",
       "    </tr>\n",
       "    <tr>\n",
       "      <th>...</th>\n",
       "      <td>...</td>\n",
       "      <td>...</td>\n",
       "      <td>...</td>\n",
       "      <td>...</td>\n",
       "      <td>...</td>\n",
       "    </tr>\n",
       "    <tr>\n",
       "      <th>62</th>\n",
       "      <td>GOES-EAST</td>\n",
       "      <td>2023226 2230</td>\n",
       "      <td>2023226 2230</td>\n",
       "      <td>Heavy</td>\n",
       "      <td>POLYGON ((-121.75866 45.17322, -122.05669 45.3...</td>\n",
       "    </tr>\n",
       "    <tr>\n",
       "      <th>63</th>\n",
       "      <td>GOES-EAST</td>\n",
       "      <td>2023226 2230</td>\n",
       "      <td>2023226 2230</td>\n",
       "      <td>Heavy</td>\n",
       "      <td>POLYGON ((-52.79618 67.84362, -53.90463 67.445...</td>\n",
       "    </tr>\n",
       "    <tr>\n",
       "      <th>64</th>\n",
       "      <td>GOES-EAST</td>\n",
       "      <td>2023226 2230</td>\n",
       "      <td>2023226 2230</td>\n",
       "      <td>Heavy</td>\n",
       "      <td>POLYGON ((-78.28060 53.25431, -78.41792 53.162...</td>\n",
       "    </tr>\n",
       "    <tr>\n",
       "      <th>65</th>\n",
       "      <td>GOES-WEST</td>\n",
       "      <td>2023226 2300</td>\n",
       "      <td>2023226 2300</td>\n",
       "      <td>Heavy</td>\n",
       "      <td>POLYGON ((-114.98826 50.19709, -114.90247 50.2...</td>\n",
       "    </tr>\n",
       "    <tr>\n",
       "      <th>66</th>\n",
       "      <td>GOES-WEST</td>\n",
       "      <td>2023226 2300</td>\n",
       "      <td>2023226 2300</td>\n",
       "      <td>Heavy</td>\n",
       "      <td>POLYGON ((-119.99639 58.66115, -119.70432 58.7...</td>\n",
       "    </tr>\n",
       "  </tbody>\n",
       "</table>\n",
       "<p>67 rows × 5 columns</p>\n",
       "</div>"
      ],
      "text/plain": [
       "    Satellite         Start           End Density  \\\n",
       "0   GOES-WEST  2023226 1000  2023226 1600   Light   \n",
       "1   GOES-WEST  2023226 1000  2023226 1600   Light   \n",
       "2   GOES-WEST  2023226 1000  2023226 1600   Light   \n",
       "3   GOES-WEST  2023226 1000  2023226 1600   Light   \n",
       "4   GOES-WEST  2023226 1000  2023226 1600   Light   \n",
       "..        ...           ...           ...     ...   \n",
       "62  GOES-EAST  2023226 2230  2023226 2230   Heavy   \n",
       "63  GOES-EAST  2023226 2230  2023226 2230   Heavy   \n",
       "64  GOES-EAST  2023226 2230  2023226 2230   Heavy   \n",
       "65  GOES-WEST  2023226 2300  2023226 2300   Heavy   \n",
       "66  GOES-WEST  2023226 2300  2023226 2300   Heavy   \n",
       "\n",
       "                                             geometry  \n",
       "0   POLYGON ((-122.99178 43.40148, -123.12216 43.4...  \n",
       "1   POLYGON ((-116.59359 47.88114, -116.66810 47.9...  \n",
       "2   POLYGON ((-116.89162 48.10466, -117.17101 47.9...  \n",
       "3   POLYGON ((-119.91841 49.11049, -119.94635 48.9...  \n",
       "4   POLYGON ((-121.27814 49.16637, -121.54823 49.2...  \n",
       "..                                                ...  \n",
       "62  POLYGON ((-121.75866 45.17322, -122.05669 45.3...  \n",
       "63  POLYGON ((-52.79618 67.84362, -53.90463 67.445...  \n",
       "64  POLYGON ((-78.28060 53.25431, -78.41792 53.162...  \n",
       "65  POLYGON ((-114.98826 50.19709, -114.90247 50.2...  \n",
       "66  POLYGON ((-119.99639 58.66115, -119.70432 58.7...  \n",
       "\n",
       "[67 rows x 5 columns]"
      ]
     },
     "execution_count": 15,
     "metadata": {},
     "output_type": "execute_result"
    }
   ],
   "source": [
    "smoke_map.current_smoke.geo_dataframe"
   ]
  },
  {
   "cell_type": "code",
   "execution_count": 18,
   "id": "516c490a-6915-461f-9597-47400d256d8f",
   "metadata": {
    "tags": []
   },
   "outputs": [],
   "source": [
    "from datetime import date, timedelta"
   ]
  },
  {
   "cell_type": "code",
   "execution_count": 20,
   "id": "88d6180d-e1c8-4d0b-a0be-8e5314eb79ff",
   "metadata": {
    "tags": []
   },
   "outputs": [
    {
     "data": {
      "text/plain": [
       "datetime.timedelta(days=131)"
      ]
     },
     "execution_count": 20,
     "metadata": {},
     "output_type": "execute_result"
    }
   ],
   "source": [
    "date(2023,9,22) - date(2023, 5, 14)"
   ]
  },
  {
   "cell_type": "code",
   "execution_count": 22,
   "id": "0aeeedd6-4014-44dd-9618-69b37ba6a888",
   "metadata": {
    "tags": []
   },
   "outputs": [
    {
     "data": {
      "text/plain": [
       "datetime.date(2023, 8, 14)"
      ]
     },
     "execution_count": 22,
     "metadata": {},
     "output_type": "execute_result"
    }
   ],
   "source": [
    "date(2023,1,1) + timedelta(days=225)"
   ]
  },
  {
   "cell_type": "code",
   "execution_count": 22,
   "id": "a5cd1d3e-f7cb-4843-8305-9c01766583be",
   "metadata": {
    "tags": []
   },
   "outputs": [
    {
     "data": {
      "text/plain": [
       "datetime.timedelta(days=8)"
      ]
     },
     "execution_count": 22,
     "metadata": {},
     "output_type": "execute_result"
    }
   ],
   "source": [
    "date(2023,10,3) - date(2023,9,25)"
   ]
  },
  {
   "cell_type": "code",
   "execution_count": 13,
   "id": "06bd1ec8-ec23-49a3-9fca-3c9c8efcb727",
   "metadata": {
    "tags": []
   },
   "outputs": [],
   "source": [
    "from ipywidgets import SelectionSlider"
   ]
  },
  {
   "cell_type": "code",
   "execution_count": 14,
   "id": "dab5f0ac-367f-4f33-8217-3833f2f87334",
   "metadata": {
    "tags": []
   },
   "outputs": [
    {
     "data": {
      "application/vnd.jupyter.widget-view+json": {
       "model_id": "59e6c4f877324186a50fbf78a644c095",
       "version_major": 2,
       "version_minor": 0
      },
      "text/plain": [
       "SelectionSlider(description='Date', options=(('4/12/2023', 0), ('6/5/2023', 1), ('8/8/2028', 2)), value=0)"
      ]
     },
     "metadata": {},
     "output_type": "display_data"
    }
   ],
   "source": [
    "s = SelectionSlider(options=[('4/12/2023', 0), ('6/5/2023', 1), ('8/8/2028', 2)], description='Date')\n",
    "s"
   ]
  },
  {
   "cell_type": "code",
   "execution_count": 15,
   "id": "7a9847f2-9bf2-4a23-843c-0777a89fe76f",
   "metadata": {
    "tags": []
   },
   "outputs": [
    {
     "data": {
      "text/plain": [
       "0"
      ]
     },
     "execution_count": 15,
     "metadata": {},
     "output_type": "execute_result"
    }
   ],
   "source": [
    "s.value"
   ]
  },
  {
   "cell_type": "code",
   "execution_count": null,
   "id": "e1be470d-1e7b-45b0-9623-0502170ea8fc",
   "metadata": {},
   "outputs": [],
   "source": []
  }
 ],
 "metadata": {
  "kernelspec": {
   "display_name": "Python 3 (ipykernel)",
   "language": "python",
   "name": "python3"
  },
  "language_info": {
   "codemirror_mode": {
    "name": "ipython",
    "version": 3
   },
   "file_extension": ".py",
   "mimetype": "text/x-python",
   "name": "python",
   "nbconvert_exporter": "python",
   "pygments_lexer": "ipython3",
   "version": "3.11.5"
  }
 },
 "nbformat": 4,
 "nbformat_minor": 5
}
