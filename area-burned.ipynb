{
 "cells": [
  {
   "cell_type": "code",
   "execution_count": null,
   "id": "947ecc8a-09a8-4060-b4a1-5c63dbef8a6f",
   "metadata": {
    "tags": []
   },
   "outputs": [],
   "source": [
    "from datetime import date, datetime\n",
    "import pandas as pd\n",
    "from bqplot import pyplot as plt\n",
    "import numpy as np"
   ]
  },
  {
   "cell_type": "code",
   "execution_count": null,
   "id": "ff9b0127-61bc-4e1d-b773-978bb50ecb3f",
   "metadata": {
    "tags": []
   },
   "outputs": [],
   "source": [
    "df = pd.read_csv(\"canada-hectares-burned.csv\", parse_dates=[0])"
   ]
  },
  {
   "cell_type": "code",
   "execution_count": null,
   "id": "9ca04681-696e-43c1-8579-47adc16985e9",
   "metadata": {
    "tags": []
   },
   "outputs": [],
   "source": [
    "df = df.sort_values(by=\"Date\")"
   ]
  },
  {
   "cell_type": "code",
   "execution_count": null,
   "id": "077a34a6-c4fe-4178-aa8b-c32d1023673a",
   "metadata": {
    "tags": []
   },
   "outputs": [],
   "source": [
    "df.info()"
   ]
  },
  {
   "cell_type": "code",
   "execution_count": null,
   "id": "3fdc2047-b842-41ff-9e83-6ebfd86acb2a",
   "metadata": {
    "tags": []
   },
   "outputs": [],
   "source": [
    "only2023 = df.loc[df[\"Date\"] > datetime(2023,1,1)]\n",
    "only2014 = df.loc[df[\"Date\"] < datetime(2015,1,1)]"
   ]
  },
  {
   "cell_type": "code",
   "execution_count": null,
   "id": "1bb4e15d-7608-4d7b-82ac-4b2820ce2c8a",
   "metadata": {
    "tags": []
   },
   "outputs": [],
   "source": [
    "y = np.array([int(ha.replace(',', '')) for ha in only2014[\"Year-to-date Burned Area (ha)\"]])\n",
    "\n",
    "plt.figure(animation_duration=1000)\n",
    "line = plt.plot(only2014[\"Date\"], y/1e6, )\n",
    "plt.show()"
   ]
  },
  {
   "cell_type": "code",
   "execution_count": null,
   "id": "c2654ef4-4b08-44d2-bd5d-7fa354ea12aa",
   "metadata": {
    "tags": []
   },
   "outputs": [],
   "source": [
    "from time import sleep\n",
    "\n",
    "y = np.array([int(ha.replace(',', '')) for ha in only2023[\"Year-to-date Burned Area (ha)\"]])\n",
    "nx = np.array([only2014[\"Date\"][442] for _ in y])\n",
    "nbx = np.array([d for d in only2014['Date']])\n",
    "ny = np.array([0.0] * len(y))\n",
    "new_line = plt.plot([only2014[\"Date\"][442] for _ in y], [0] * len(y))\n",
    "chunks = len(y) // 10\n",
    "\n",
    "\n",
    "with new_line.hold_sync():\n",
    "    new_line.x = nbx\n",
    "    new_line.y = y/1e6\n",
    "#plt.plot(only2014[\"Date\"], y/1e6)"
   ]
  },
  {
   "cell_type": "code",
   "execution_count": null,
   "id": "2861c909-3da2-42d9-b9d7-5ef055b4a9f7",
   "metadata": {
    "tags": []
   },
   "outputs": [],
   "source": [
    "for c in range(chunks):\n",
    "    print(c)\n",
    "    with new_line.hold_sync():\n",
    "        new_line.x = nbx[:(c+ 1)*10]\n",
    "        new_line.y = y[:(c + 1)*10] / 1e6\n",
    "    sleep(2)"
   ]
  },
  {
   "cell_type": "code",
   "execution_count": null,
   "id": "d55ba63e-9995-4121-99dd-a50543cf311a",
   "metadata": {
    "tags": []
   },
   "outputs": [],
   "source": [
    "years = [2014, 2021, 2022, 2023]\n",
    "\n",
    "def fix_numbers(df):\n",
    "    return np.array([int(ha.replace(',', '')) for ha in df[\"Year-to-date Burned Area (ha)\"]])"
   ]
  },
  {
   "cell_type": "raw",
   "id": "b84e077f-90a8-4446-957f-87e1364defbf",
   "metadata": {},
   "source": []
  },
  {
   "cell_type": "code",
   "execution_count": null,
   "id": "4cdc64d3-8de1-431d-a29a-633ceaf5da87",
   "metadata": {
    "tags": []
   },
   "outputs": [],
   "source": [
    "years"
   ]
  },
  {
   "cell_type": "code",
   "execution_count": null,
   "id": "ea982593-ffbc-473c-bcb9-37d250734800",
   "metadata": {
    "tags": []
   },
   "outputs": [],
   "source": [
    "plt.figure(animation_duration=2000)\n",
    "plt.ylabel('Area burned, millions of hectare')\n",
    "lines = []\n",
    "ys = []\n",
    "\n",
    "for year in years:\n",
    "    this_year = df.loc[(df[\"Date\"] > datetime(year,1,1)) & (df[\"Date\"] < datetime(year + 1, 1, 1))]\n",
    "    y = fix_numbers(this_year) / 1e6\n",
    "    ys.append(y)\n",
    "    line = plt.plot(only2014[\"Date\"], 0 * y)\n",
    "    lines.append(line)\n",
    "    \n",
    "plt.show()\n",
    "for year, line, y in zip(years, lines, ys):\n",
    "    plt.title(f\"Year {year}\")\n",
    "    with line.hold_sync():\n",
    "        line.x = only2014[\"Date\"]\n",
    "        line.y = y\n",
    "    sleep(2)\n"
   ]
  },
  {
   "cell_type": "code",
   "execution_count": null,
   "id": "486d13d8-47be-4c53-a72b-817d09b35b3b",
   "metadata": {
    "tags": []
   },
   "outputs": [],
   "source": [
    "with lines[-1].hold_sync():\n",
    "    lines[-1].x = only2014[\"Date\"]\n",
    "    lines[-1].y = ys[-1]"
   ]
  },
  {
   "cell_type": "code",
   "execution_count": null,
   "id": "ce903b31-a174-45a5-b684-e62bf42d9060",
   "metadata": {
    "tags": []
   },
   "outputs": [],
   "source": [
    "len(ys[-1]), len(only2014[\"Date\"])"
   ]
  },
  {
   "cell_type": "code",
   "execution_count": null,
   "id": "8d976807-8267-45be-9ae7-1cdb2f1ffc61",
   "metadata": {
    "tags": []
   },
   "outputs": [],
   "source": [
    "[int(ha.replace(',', '')) for ha in only2023[\"Year-to-date Burned Area (ha)\"]]"
   ]
  },
  {
   "cell_type": "code",
   "execution_count": null,
   "id": "d583b561-278f-43f7-a671-6783bb84815a",
   "metadata": {},
   "outputs": [],
   "source": []
  }
 ],
 "metadata": {
  "kernelspec": {
   "display_name": "Python 3 (ipykernel)",
   "language": "python",
   "name": "python3"
  },
  "language_info": {
   "codemirror_mode": {
    "name": "ipython",
    "version": 3
   },
   "file_extension": ".py",
   "mimetype": "text/x-python",
   "name": "python",
   "nbconvert_exporter": "python",
   "pygments_lexer": "ipython3",
   "version": "3.13.3"
  }
 },
 "nbformat": 4,
 "nbformat_minor": 5
}
