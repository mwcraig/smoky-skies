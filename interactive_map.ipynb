{
 "cells": [
  {
   "cell_type": "markdown",
   "id": "51adb7ef-5283-451a-90cf-aeb3659a00f1",
   "metadata": {},
   "source": [
    "# Code source\n",
    "\n",
    "copy/pasted from https://github.com/SaulMontoya/interactiveShapefileExplorationonJupyterlab"
   ]
  },
  {
   "cell_type": "code",
   "execution_count": null,
   "id": "1e57eac4-5ab0-4ecd-9099-d5a731373a73",
   "metadata": {
    "tags": []
   },
   "outputs": [],
   "source": [
    "import os, json\n",
    "from pathlib import Path\n",
    "import geopandas as gpd\n",
    "from ipywidgets import widgets, Layout\n",
    "from ipyleaflet import Map, GeoData, basemaps, LayersControl, ScaleControl, FullScreenControl, WidgetControl, basemap_to_tiles, DivIcon\n",
    "from ipywidgets import widgets, IntSlider, jslink"
   ]
  },
  {
   "cell_type": "code",
   "execution_count": null,
   "id": "2308939d-70a0-4b15-a7b2-05a81ee28f79",
   "metadata": {
    "tags": []
   },
   "outputs": [],
   "source": [
    "#get shapefile name list\n",
    "\n",
    "shapes = Path('smoke_extents/')\n",
    "foo = shapes.glob('**/*.shp')\n",
    "\n",
    "floo = {f.stem: str(f) for f in foo}\n",
    "#shpList = [x[:-4] for x in os.listdir('../shp') if x[-3:]=='shp']\n"
   ]
  },
  {
   "cell_type": "code",
   "execution_count": null,
   "id": "3dfbe8f0-bc67-4d29-880f-47b40edb63bd",
   "metadata": {
    "tags": []
   },
   "outputs": [],
   "source": [
    "map_layout = Layout(width='750px', height='750px')\n",
    "geodata_style = {'color': 'black', 'weight': 1, 'fillColor': '#' + '3' * 6}"
   ]
  },
  {
   "cell_type": "code",
   "execution_count": null,
   "id": "113d45ca-8b78-4237-a657-84a531200fa5",
   "metadata": {
    "tags": []
   },
   "outputs": [],
   "source": [
    "\n",
    "#dropdown widget\n",
    "selDrop = widgets.Dropdown(\n",
    "    options=sorted(floo.keys()),\n",
    "    value=sorted(floo.keys())[0],\n",
    "    description='Shapefile:',\n",
    "    disabled=False,\n",
    ")\n",
    "\n",
    "display(selDrop)\n",
    "\n",
    "#button widget\n",
    "selBot = widgets.Button(\n",
    "    description='Select shapefile',\n",
    "    disabled=False,\n",
    "    button_style='success', # 'success', 'info', 'warning', 'danger' or ''\n",
    "    tooltip='Select shapefile',\n",
    "    icon='check'\n",
    ")\n",
    "\n",
    "display(selBot)\n",
    "\n",
    "#map object\n",
    "m = Map(center=(40,-96), zoom = 4,\n",
    "        layout=map_layout,\n",
    "        basemap = basemaps.NASAGIBS.ViirsEarthAtNight2012) #basemaps.OpenStreetMap.Mapnik) #OpenTopoMap)\n",
    "\n",
    "zoom_slider = IntSlider(description='Zoom level:', min=0, max=15, value=4)\n",
    "jslink((zoom_slider, 'value'), (m, 'zoom'))\n",
    "widgetControl = WidgetControl(widget=zoom_slider, position='topright')\n",
    "m.add_control(widgetControl)\n",
    "\n",
    "m.add_layer(basemap_to_tiles(basemaps.OpenStreetMap.Mapnik, opacity=1))\n",
    "#m.add_layer(basemaps.NASAGIBS.ViirsEarthAtNight2012)\n",
    "m.add_control(ScaleControl(position='bottomleft'))\n",
    "m.add_control(FullScreenControl(position='topright'))\n",
    "m.add_control(LayersControl())\n",
    "display(m)\n",
    "\n",
    "#show map function\n",
    "def showMap(selShp):\n",
    "    global geoData, geoDf\n",
    "    selDf = gpd.read_file(floo[selShp])\n",
    "\n",
    "\n",
    "    geoDf = selDf.to_crs(4326)\n",
    "#     lonCent = (geoDf.bounds.maxx + geoDf.bounds.minx).mean()/2\n",
    "#     latCent = (geoDf.bounds.maxy + geoDf.bounds.miny).mean()/2\n",
    "\n",
    "#     m.center = (latCent,lonCent)\n",
    "    geoData = GeoData(geo_dataframe=geoDf, name=selShp, style=geodata_style)\n",
    "    m.add_layer(geoData)\n",
    "    \n",
    "#on click function\n",
    "def on_button_clicked(b):\n",
    "    showMap(selDrop.value)\n",
    "\n",
    "selBot.on_click(on_button_clicked)"
   ]
  },
  {
   "cell_type": "code",
   "execution_count": null,
   "id": "74581efe-fd46-45f1-bd3a-0b72c087259d",
   "metadata": {
    "tags": []
   },
   "outputs": [],
   "source": [
    "from time import sleep\n",
    "import numpy as np\n",
    "\n",
    "for i in np.linspace(0.2, 0.01, num=10):\n",
    "    the_style = dict(geoData.style)\n",
    "    the_style[\"fillOpacity\"] = i\n",
    "    the_style[\"opacity\"] = i\n",
    "    #geoData.style['opacity'] = 1 / (1 + i)\n",
    "    geoData.style = the_style\n",
    "    sleep(1)"
   ]
  },
  {
   "cell_type": "code",
   "execution_count": null,
   "id": "d31dbb97-5330-4d52-8cd4-1859dcc1fbf2",
   "metadata": {
    "tags": []
   },
   "outputs": [],
   "source": [
    "def cross_fade(layer1, layer2, fade_duration=1, max_opacity=0.2, steps=30):\n",
    "    for opacity in np.linspace(max_opacity, 0, num=steps):\n",
    "        style1 = dict(layer1.style)\n",
    "        style2 = dict(layer2.style)\n",
    "        for key in [\"fillOpacity\", \"opacity\"]:\n",
    "            style1[key] = opacity\n",
    "            style2[key] = max_opacity - opacity\n",
    "        layer1.style = style1\n",
    "        layer2.style = style2\n",
    "        sleep(fade_duration / steps)\n",
    "    "
   ]
  },
  {
   "cell_type": "code",
   "execution_count": null,
   "id": "c8624206-fa37-4800-9fcf-3dcc90a0695a",
   "metadata": {
    "tags": []
   },
   "outputs": [],
   "source": [
    "date_label = DivIcon(html='<h1 style=\"color:red\">MOOOO</h1>', icon_size=(50, 50))\n",
    "date_label2 = DivIcon(html=\"<h1>HFDIUHFIUSDHFUIS</h1>\", icon_size=(50, 50))\n"
   ]
  },
  {
   "cell_type": "code",
   "execution_count": null,
   "id": "3aee2fb1-47d6-427f-8275-e31cfbad7d88",
   "metadata": {
    "tags": []
   },
   "outputs": [],
   "source": [
    "date_marker = Marker(location=(46.873889, -96.767222), icon=date_label)\n",
    "m.add(date_marker);"
   ]
  },
  {
   "cell_type": "code",
   "execution_count": null,
   "id": "6064562c-f878-463e-85e6-de9c4d1f7821",
   "metadata": {
    "tags": []
   },
   "outputs": [],
   "source": [
    "date_marker.icon = date_label2"
   ]
  },
  {
   "cell_type": "code",
   "execution_count": null,
   "id": "5fbea1c2-7c10-40e0-be72-00d6461f49b0",
   "metadata": {
    "tags": []
   },
   "outputs": [],
   "source": [
    "date_label.html = \"<h1>HFDIUHFIUSDHFUIS</h1>\""
   ]
  },
  {
   "cell_type": "code",
   "execution_count": null,
   "id": "5b25dce7-9b80-45c2-8205-9198e4ec151f",
   "metadata": {
    "tags": []
   },
   "outputs": [],
   "source": [
    "selDf = gpd.read_file(floo[\"hms_smoke20230506\"])\n",
    "\n",
    "zero_opacity = {\"fillOpacity\": 0, \"opacity\": 0}\n",
    "zero_opacity.update(geodata_style)\n",
    "\n",
    "geoDf2 = selDf.to_crs(4326)\n",
    "#     lonCent = (geoDf.bounds.maxx + geoDf.bounds.minx).mean()/2\n",
    "#     latCent = (geoDf.bounds.maxy + geoDf.bounds.miny).mean()/2\n",
    "\n",
    "#     m.center = (latCent,lonCent)\n",
    "geoData2 = GeoData(geo_dataframe=geoDf2, name=\"hms_smoke20230506\", style=zero_opacity)\n",
    "m.add(geoData2);"
   ]
  },
  {
   "cell_type": "code",
   "execution_count": null,
   "id": "bcec581d-4c77-42eb-bbcc-9edb4fbef236",
   "metadata": {
    "tags": []
   },
   "outputs": [],
   "source": [
    "def animate(shape_file_dict, date_box):\n",
    "    names = sorted(shape_file_dict.keys())\n",
    "    this_df = gpd.read_file(shape_file_dict[names[0]])\n",
    "    this_geo_data = GeoData(geo_dataframe=this_df, name=names[0], style=geodata_style)\n",
    "    m.add(this_geo_data)\n",
    "    for that in names[1:]:\n",
    "        that_df = gpd.read_file(shape_file_dict[that])\n",
    "        that_geo_data = GeoData(geo_dataframe=that_df, name=that, style=zero_opacity)\n",
    "        m.add(that_geo_data)\n",
    "        cross_fade(this_geo_data, that_geo_data, fade_duration=0.2)\n",
    "        m.remove(this_geo_data)\n",
    "        this_geo_data = that_geo_data\n",
    "        "
   ]
  },
  {
   "cell_type": "code",
   "execution_count": null,
   "id": "206985d7-1a3f-4175-a5f8-575152e70215",
   "metadata": {
    "tags": []
   },
   "outputs": [],
   "source": [
    "icon_bison = Icon(icon_url=\"https://thenounproject.com/api/private/icons/5844572/edit/?backgroundShape=SQUARE&backgroundShapeColor=%23000000&backgroundShapeOpacity=0&exportSize=752&flipX=false&flipY=false&foregroundColor=%23000000&foregroundOpacity=1&imageFormat=png&rotation=0\",\n",
    "                  icon_size=(100, 100))\n",
    "icon_bison_brown = Icon(icon_url=\"https://thenounproject.com/api/private/icons/5844572/edit/?backgroundShape=SQUARE&backgroundShapeColor=%23000000&backgroundShapeOpacity=0&exportSize=752&flipX=false&flipY=false&foregroundColor=%238B4513&foregroundOpacity=1&imageFormat=png&rotation=0\",\n",
    "                        icon_size=(60, 60))\n",
    "icon_obs = Icon(icon_url=\"https://thenounproject.com/api/private/icons/1336/edit/?backgroundShape=SQUARE&backgroundShapeColor=%23000000&backgroundShapeOpacity=0&exportSize=752&flipX=false&flipY=false&foregroundColor=%23000000&foregroundOpacity=1&imageFormat=png&rotation=0\")\n",
    "icon_obs_yellow = Icon(icon_url=\"https://thenounproject.com/api/private/icons/1336/edit/?backgroundShape=SQUARE&backgroundShapeColor=%23000000&backgroundShapeOpacity=0&exportSize=752&flipX=false&flipY=false&foregroundColor=%23FFd65B&foregroundOpacity=1&imageFormat=png&rotation=0\")\n",
    "moorhead = Marker(location=(46.873889, -96.767222), icon=icon_obs_yellow, title=\"Moorhead\", alt=\"Moorhead\", name=\"Moorhead\")\n",
    "m.add(moorhead)\n",
    "trnp = Marker(location=(46.912222, -103.525278), icon=icon_bison_brown, name=\"TRNP\")\n",
    "m.add(trnp);"
   ]
  },
  {
   "cell_type": "code",
   "execution_count": null,
   "id": "3fad729d-b9ad-4196-8aaa-d315cf796fa0",
   "metadata": {
    "tags": []
   },
   "outputs": [],
   "source": [
    "animate(floo)"
   ]
  },
  {
   "cell_type": "code",
   "execution_count": null,
   "id": "cc0cf3b0-cd7f-45f3-b2fb-151f3d460f03",
   "metadata": {
    "tags": []
   },
   "outputs": [],
   "source": [
    "cross_fade(geoData, geoData2, fade_duration=0.1)"
   ]
  },
  {
   "cell_type": "code",
   "execution_count": null,
   "id": "6f739efc-979f-43e7-8e14-d6a2fe273481",
   "metadata": {
    "tags": []
   },
   "outputs": [],
   "source": [
    "da_layer.name = \"Moorhead\""
   ]
  },
  {
   "cell_type": "code",
   "execution_count": null,
   "id": "b028ee44-b1bb-4919-bb21-851c62998b4a",
   "metadata": {
    "tags": []
   },
   "outputs": [],
   "source": [
    "[g for g in dir(geoData) if not g.startswith(\"_\")]"
   ]
  },
  {
   "cell_type": "code",
   "execution_count": null,
   "id": "2bab483d-985e-44e8-a0c2-c82ac50656d9",
   "metadata": {
    "tags": []
   },
   "outputs": [],
   "source": [
    "geoData.style"
   ]
  },
  {
   "cell_type": "code",
   "execution_count": null,
   "id": "00cd8777-8cd9-4db1-8eee-e2a4acedd1ee",
   "metadata": {
    "tags": []
   },
   "outputs": [],
   "source": [
    "geoData.style = {'color': 'black', 'weight': 1, 'fillColor': '#' + '3' * 6}"
   ]
  },
  {
   "cell_type": "code",
   "execution_count": null,
   "id": "0398f425-493a-4161-a533-e63dbfad0a21",
   "metadata": {
    "tags": []
   },
   "outputs": [],
   "source": [
    "from ipyleaflet import Marker, Icon"
   ]
  },
  {
   "cell_type": "code",
   "execution_count": null,
   "id": "f3467ef5-371e-4609-b971-a28e639b0de2",
   "metadata": {
    "tags": []
   },
   "outputs": [],
   "source": [
    "set(geoDf[\"Density\"])"
   ]
  },
  {
   "cell_type": "code",
   "execution_count": null,
   "id": "ee406624-23ab-4459-b58f-bbbc6a6267f7",
   "metadata": {
    "tags": []
   },
   "outputs": [],
   "source": [
    "from datetime import date, timedelta"
   ]
  },
  {
   "cell_type": "code",
   "execution_count": null,
   "id": "10fd02d5-f746-45b3-9170-518d54dbc1f3",
   "metadata": {
    "tags": []
   },
   "outputs": [],
   "source": [
    "d = date(2023,5,1)\n",
    "td = timedelta(days=30)\n",
    "d, d + td"
   ]
  },
  {
   "cell_type": "code",
   "execution_count": null,
   "id": "3ead0f87-f269-4088-8947-8ad6e9735847",
   "metadata": {
    "tags": []
   },
   "outputs": [],
   "source": [
    "date.today()"
   ]
  },
  {
   "cell_type": "code",
   "execution_count": null,
   "id": "e4de0bf6-f666-456a-9521-f1da1b7cca6b",
   "metadata": {},
   "outputs": [],
   "source": []
  }
 ],
 "metadata": {
  "kernelspec": {
   "display_name": "Python 3 (ipykernel)",
   "language": "python",
   "name": "python3"
  },
  "language_info": {
   "codemirror_mode": {
    "name": "ipython",
    "version": 3
   },
   "file_extension": ".py",
   "mimetype": "text/x-python",
   "name": "python",
   "nbconvert_exporter": "python",
   "pygments_lexer": "ipython3",
   "version": "3.13.3"
  }
 },
 "nbformat": 4,
 "nbformat_minor": 5
}
