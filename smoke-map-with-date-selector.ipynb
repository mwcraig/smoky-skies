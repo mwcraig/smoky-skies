{
 "cells": [
  {
   "cell_type": "markdown",
   "id": "324f359d-1187-457b-b35f-a5a236b4f590",
   "metadata": {},
   "source": [
    "# Smoke map with date selector"
   ]
  },
  {
   "cell_type": "code",
   "execution_count": null,
   "id": "412e7832-effc-4cca-a7f5-7dcb2a186ba4",
   "metadata": {
    "tags": []
   },
   "outputs": [],
   "source": [
    "from pathlib import Path\n",
    "from time import sleep\n",
    "\n",
    "import ipyleaflet as ipl\n",
    "import ipywidgets as ipw\n",
    "\n",
    "from map_renderer import ShapeFiles, construct_map, SmokeMap, MOORHEAD, TRNP"
   ]
  },
  {
   "cell_type": "code",
   "execution_count": null,
   "id": "ad0d0968-6fca-4dbe-9bf9-541323fdfc66",
   "metadata": {
    "tags": []
   },
   "outputs": [],
   "source": [
    "shapes = ShapeFiles(Path('smoke_extents'))"
   ]
  },
  {
   "cell_type": "code",
   "execution_count": null,
   "id": "bcd448a0-1812-4df0-8500-91b0f4628aab",
   "metadata": {
    "tags": []
   },
   "outputs": [],
   "source": [
    "layout = ipw.Layout(width=\"500px\", height=\"500px\")\n",
    "a_map = construct_map(map_layout=layout, basemap=ipl.basemaps.OpenStreetMap.HOT)"
   ]
  },
  {
   "cell_type": "code",
   "execution_count": null,
   "id": "e11b7c0d-4569-4794-bae3-9dc9b18be9a6",
   "metadata": {
    "tags": []
   },
   "outputs": [],
   "source": [
    "smoke_map = SmokeMap(map=a_map, shapes=shapes)\n",
    "smoke_map.date_select_on()"
   ]
  },
  {
   "cell_type": "code",
   "execution_count": null,
   "id": "a4bb0af5-44c4-449a-9e39-d0c77c5491d7",
   "metadata": {
    "tags": []
   },
   "outputs": [],
   "source": [
    "# map.add(MOORHEAD.marker())\n",
    "a_map.add(TRNP.marker())"
   ]
  },
  {
   "cell_type": "code",
   "execution_count": null,
   "id": "924760b8-1496-41eb-9af3-789e92fbb0ba",
   "metadata": {
    "tags": []
   },
   "outputs": [],
   "source": []
  },
  {
   "cell_type": "code",
   "execution_count": null,
   "id": "538e2b5f-6e2a-4366-bb15-aa6b5ccf7c9a",
   "metadata": {},
   "outputs": [],
   "source": []
  }
 ],
 "metadata": {
  "kernelspec": {
   "display_name": "Python 3 (ipykernel)",
   "language": "python",
   "name": "python3"
  },
  "language_info": {
   "codemirror_mode": {
    "name": "ipython",
    "version": 3
   },
   "file_extension": ".py",
   "mimetype": "text/x-python",
   "name": "python",
   "nbconvert_exporter": "python",
   "pygments_lexer": "ipython3",
   "version": "3.13.3"
  }
 },
 "nbformat": 4,
 "nbformat_minor": 5
}
